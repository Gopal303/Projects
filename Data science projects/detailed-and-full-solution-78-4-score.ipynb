{
 "cells": [
  {
   "cell_type": "code",
   "execution_count": 1,
   "id": "03cdc4c8",
   "metadata": {
    "_cell_guid": "b1076dfc-b9ad-4769-8c92-a6c4dae69d19",
    "_uuid": "8f2839f25d086af736a60e9eeb907d3b93b6e0e5",
    "execution": {
     "iopub.execute_input": "2022-08-18T15:01:16.141475Z",
     "iopub.status.busy": "2022-08-18T15:01:16.140835Z",
     "iopub.status.idle": "2022-08-18T15:01:24.969855Z",
     "shell.execute_reply": "2022-08-18T15:01:24.968417Z"
    },
    "papermill": {
     "duration": 8.854402,
     "end_time": "2022-08-18T15:01:24.973012",
     "exception": false,
     "start_time": "2022-08-18T15:01:16.118610",
     "status": "completed"
    },
    "tags": []
   },
   "outputs": [],
   "source": [
    "# =========================================================\n",
    "# Basic Libraries:\n",
    "import pandas as pd \n",
    "import matplotlib.pyplot as plt\n",
    "import seaborn as sns\n",
    "import numpy as np\n",
    "from IPython. display import clear_output\n",
    "# =========================================================\n",
    "# Machine Learning Libraries:\n",
    "from sklearn.feature_extraction.text import CountVectorizer\n",
    "from sklearn.model_selection import train_test_split\n",
    "from keras.preprocessing.text import Tokenizer\n",
    "from keras.preprocessing.sequence import pad_sequences\n",
    "from keras.models import Sequential\n",
    "from keras.layers import Embedding,LSTM,Dense,SpatialDropout1D\n",
    "from keras.initializers import Constant\n",
    "from tensorflow.keras.optimizers import Adam\n",
    "# =========================================================\n",
    "# NLP Libraries:\n",
    "from nltk.tokenize import word_tokenize\n",
    "from nltk.corpus import stopwords\n",
    "from nltk.util import ngrams\n",
    "# =========================================================\n",
    "# Collections Libraries:\n",
    "from collections import defaultdict\n",
    "from collections import  Counter\n",
    "# =========================================================\n",
    "# Text Libraries\n",
    "import re\n",
    "import gensim\n",
    "import string\n",
    "from tqdm import tqdm\n",
    "plt.style.use('ggplot')"
   ]
  },
  {
   "cell_type": "code",
   "execution_count": 2,
   "id": "1cdba198",
   "metadata": {
    "execution": {
     "iopub.execute_input": "2022-08-18T15:01:25.015912Z",
     "iopub.status.busy": "2022-08-18T15:01:25.015258Z",
     "iopub.status.idle": "2022-08-18T15:01:25.022428Z",
     "shell.execute_reply": "2022-08-18T15:01:25.020854Z"
    },
    "papermill": {
     "duration": 0.031379,
     "end_time": "2022-08-18T15:01:25.025225",
     "exception": false,
     "start_time": "2022-08-18T15:01:24.993846",
     "status": "completed"
    },
    "tags": []
   },
   "outputs": [],
   "source": [
    "def read_data():\n",
    "    train_data = pd.read_csv(\"/kaggle/input/nlp-getting-started/train.csv\")\n",
    "    print(\"Train data imported successfully!!\")\n",
    "    print(\"-\"*50)\n",
    "    test_data = pd.read_csv(\"/kaggle/input/nlp-getting-started/test.csv\")\n",
    "    print(\"Test data imported successfully!!\")\n",
    "    return train_data , test_data"
   ]
  },
  {
   "cell_type": "code",
   "execution_count": 3,
   "id": "d30ed047",
   "metadata": {
    "execution": {
     "iopub.execute_input": "2022-08-18T15:01:25.068311Z",
     "iopub.status.busy": "2022-08-18T15:01:25.067172Z",
     "iopub.status.idle": "2022-08-18T15:01:25.171658Z",
     "shell.execute_reply": "2022-08-18T15:01:25.169924Z"
    },
    "papermill": {
     "duration": 0.131293,
     "end_time": "2022-08-18T15:01:25.176978",
     "exception": false,
     "start_time": "2022-08-18T15:01:25.045685",
     "status": "completed"
    },
    "tags": []
   },
   "outputs": [
    {
     "name": "stdout",
     "output_type": "stream",
     "text": [
      "Train data imported successfully!!\n",
      "--------------------------------------------------\n",
      "Test data imported successfully!!\n"
     ]
    }
   ],
   "source": [
    "train_data , test_data = read_data()"
   ]
  },
  {
   "cell_type": "markdown",
   "id": "f3a7395d",
   "metadata": {
    "papermill": {
     "duration": 0.05325,
     "end_time": "2022-08-18T15:01:25.293482",
     "exception": false,
     "start_time": "2022-08-18T15:01:25.240232",
     "status": "completed"
    },
    "tags": []
   },
   "source": [
    "\n",
    "<a class = \"anchor\"  id = \"dtd\"  >\n",
    "    <div style=\"color:#00ADB5;\n",
    "               display:fill;\n",
    "               border-radius:5px;\n",
    "               background-color:#393E46;\n",
    "               font-size:20px;\n",
    "               font-family:sans-serif;\n",
    "               letter-spacing:0.5px\">\n",
    "            <p style=\"padding: 10px;\n",
    "                  color:white;\">\n",
    "                <b> 3 ) Discovering the data:</b>\n",
    "            </p>\n",
    "    </div>\n",
    "</a>\n"
   ]
  },
  {
   "cell_type": "markdown",
   "id": "d4fb36c1",
   "metadata": {
    "papermill": {
     "duration": 0.045439,
     "end_time": "2022-08-18T15:01:25.396927",
     "exception": false,
     "start_time": "2022-08-18T15:01:25.351488",
     "status": "completed"
    },
    "tags": []
   },
   "source": [
    "From the competition information our data is:\n",
    "- **id:**  a unique identifier for each tweet\n",
    "- **text:**  the text of the tweet\n",
    "- **location:**  the location the tweet was sent from (may be blank)\n",
    "- **keyword:**  a particular keyword from the tweet (may be blank)\n",
    "- **target:**  in train.csv only, this denotes whether a tweet is about a real disaster (1) or not (0)\n",
    "\n",
    "Let's see the first 5 rows from the data:"
   ]
  },
  {
   "cell_type": "code",
   "execution_count": 4,
   "id": "cd2b05d6",
   "metadata": {
    "execution": {
     "iopub.execute_input": "2022-08-18T15:01:25.474803Z",
     "iopub.status.busy": "2022-08-18T15:01:25.474260Z",
     "iopub.status.idle": "2022-08-18T15:01:25.505200Z",
     "shell.execute_reply": "2022-08-18T15:01:25.503718Z"
    },
    "papermill": {
     "duration": 0.07173,
     "end_time": "2022-08-18T15:01:25.508691",
     "exception": false,
     "start_time": "2022-08-18T15:01:25.436961",
     "status": "completed"
    },
    "tags": []
   },
   "outputs": [
    {
     "data": {
      "text/html": [
       "<div>\n",
       "<style scoped>\n",
       "    .dataframe tbody tr th:only-of-type {\n",
       "        vertical-align: middle;\n",
       "    }\n",
       "\n",
       "    .dataframe tbody tr th {\n",
       "        vertical-align: top;\n",
       "    }\n",
       "\n",
       "    .dataframe thead th {\n",
       "        text-align: right;\n",
       "    }\n",
       "</style>\n",
       "<table border=\"1\" class=\"dataframe\">\n",
       "  <thead>\n",
       "    <tr style=\"text-align: right;\">\n",
       "      <th></th>\n",
       "      <th>id</th>\n",
       "      <th>keyword</th>\n",
       "      <th>location</th>\n",
       "      <th>text</th>\n",
       "      <th>target</th>\n",
       "    </tr>\n",
       "  </thead>\n",
       "  <tbody>\n",
       "    <tr>\n",
       "      <th>0</th>\n",
       "      <td>1</td>\n",
       "      <td>NaN</td>\n",
       "      <td>NaN</td>\n",
       "      <td>Our Deeds are the Reason of this #earthquake M...</td>\n",
       "      <td>1</td>\n",
       "    </tr>\n",
       "    <tr>\n",
       "      <th>1</th>\n",
       "      <td>4</td>\n",
       "      <td>NaN</td>\n",
       "      <td>NaN</td>\n",
       "      <td>Forest fire near La Ronge Sask. Canada</td>\n",
       "      <td>1</td>\n",
       "    </tr>\n",
       "    <tr>\n",
       "      <th>2</th>\n",
       "      <td>5</td>\n",
       "      <td>NaN</td>\n",
       "      <td>NaN</td>\n",
       "      <td>All residents asked to 'shelter in place' are ...</td>\n",
       "      <td>1</td>\n",
       "    </tr>\n",
       "    <tr>\n",
       "      <th>3</th>\n",
       "      <td>6</td>\n",
       "      <td>NaN</td>\n",
       "      <td>NaN</td>\n",
       "      <td>13,000 people receive #wildfires evacuation or...</td>\n",
       "      <td>1</td>\n",
       "    </tr>\n",
       "    <tr>\n",
       "      <th>4</th>\n",
       "      <td>7</td>\n",
       "      <td>NaN</td>\n",
       "      <td>NaN</td>\n",
       "      <td>Just got sent this photo from Ruby #Alaska as ...</td>\n",
       "      <td>1</td>\n",
       "    </tr>\n",
       "  </tbody>\n",
       "</table>\n",
       "</div>"
      ],
      "text/plain": [
       "   id keyword location                                               text  \\\n",
       "0   1     NaN      NaN  Our Deeds are the Reason of this #earthquake M...   \n",
       "1   4     NaN      NaN             Forest fire near La Ronge Sask. Canada   \n",
       "2   5     NaN      NaN  All residents asked to 'shelter in place' are ...   \n",
       "3   6     NaN      NaN  13,000 people receive #wildfires evacuation or...   \n",
       "4   7     NaN      NaN  Just got sent this photo from Ruby #Alaska as ...   \n",
       "\n",
       "   target  \n",
       "0       1  \n",
       "1       1  \n",
       "2       1  \n",
       "3       1  \n",
       "4       1  "
      ]
     },
     "execution_count": 4,
     "metadata": {},
     "output_type": "execute_result"
    }
   ],
   "source": [
    "train_data.head()"
   ]
  },
  {
   "cell_type": "code",
   "execution_count": 5,
   "id": "c55258d6",
   "metadata": {
    "execution": {
     "iopub.execute_input": "2022-08-18T15:01:25.582962Z",
     "iopub.status.busy": "2022-08-18T15:01:25.582197Z",
     "iopub.status.idle": "2022-08-18T15:01:25.599983Z",
     "shell.execute_reply": "2022-08-18T15:01:25.598513Z"
    },
    "papermill": {
     "duration": 0.057626,
     "end_time": "2022-08-18T15:01:25.603005",
     "exception": false,
     "start_time": "2022-08-18T15:01:25.545379",
     "status": "completed"
    },
    "tags": []
   },
   "outputs": [
    {
     "data": {
      "text/html": [
       "<div>\n",
       "<style scoped>\n",
       "    .dataframe tbody tr th:only-of-type {\n",
       "        vertical-align: middle;\n",
       "    }\n",
       "\n",
       "    .dataframe tbody tr th {\n",
       "        vertical-align: top;\n",
       "    }\n",
       "\n",
       "    .dataframe thead th {\n",
       "        text-align: right;\n",
       "    }\n",
       "</style>\n",
       "<table border=\"1\" class=\"dataframe\">\n",
       "  <thead>\n",
       "    <tr style=\"text-align: right;\">\n",
       "      <th></th>\n",
       "      <th>id</th>\n",
       "      <th>keyword</th>\n",
       "      <th>location</th>\n",
       "      <th>text</th>\n",
       "    </tr>\n",
       "  </thead>\n",
       "  <tbody>\n",
       "    <tr>\n",
       "      <th>0</th>\n",
       "      <td>0</td>\n",
       "      <td>NaN</td>\n",
       "      <td>NaN</td>\n",
       "      <td>Just happened a terrible car crash</td>\n",
       "    </tr>\n",
       "    <tr>\n",
       "      <th>1</th>\n",
       "      <td>2</td>\n",
       "      <td>NaN</td>\n",
       "      <td>NaN</td>\n",
       "      <td>Heard about #earthquake is different cities, s...</td>\n",
       "    </tr>\n",
       "    <tr>\n",
       "      <th>2</th>\n",
       "      <td>3</td>\n",
       "      <td>NaN</td>\n",
       "      <td>NaN</td>\n",
       "      <td>there is a forest fire at spot pond, geese are...</td>\n",
       "    </tr>\n",
       "    <tr>\n",
       "      <th>3</th>\n",
       "      <td>9</td>\n",
       "      <td>NaN</td>\n",
       "      <td>NaN</td>\n",
       "      <td>Apocalypse lighting. #Spokane #wildfires</td>\n",
       "    </tr>\n",
       "    <tr>\n",
       "      <th>4</th>\n",
       "      <td>11</td>\n",
       "      <td>NaN</td>\n",
       "      <td>NaN</td>\n",
       "      <td>Typhoon Soudelor kills 28 in China and Taiwan</td>\n",
       "    </tr>\n",
       "  </tbody>\n",
       "</table>\n",
       "</div>"
      ],
      "text/plain": [
       "   id keyword location                                               text\n",
       "0   0     NaN      NaN                 Just happened a terrible car crash\n",
       "1   2     NaN      NaN  Heard about #earthquake is different cities, s...\n",
       "2   3     NaN      NaN  there is a forest fire at spot pond, geese are...\n",
       "3   9     NaN      NaN           Apocalypse lighting. #Spokane #wildfires\n",
       "4  11     NaN      NaN      Typhoon Soudelor kills 28 in China and Taiwan"
      ]
     },
     "execution_count": 5,
     "metadata": {},
     "output_type": "execute_result"
    }
   ],
   "source": [
    "test_data.head()"
   ]
  },
  {
   "cell_type": "code",
   "execution_count": 6,
   "id": "2a6f3493",
   "metadata": {
    "execution": {
     "iopub.execute_input": "2022-08-18T15:01:25.675353Z",
     "iopub.status.busy": "2022-08-18T15:01:25.674583Z",
     "iopub.status.idle": "2022-08-18T15:01:25.720144Z",
     "shell.execute_reply": "2022-08-18T15:01:25.716861Z"
    },
    "papermill": {
     "duration": 0.084796,
     "end_time": "2022-08-18T15:01:25.723714",
     "exception": false,
     "start_time": "2022-08-18T15:01:25.638918",
     "status": "completed"
    },
    "tags": []
   },
   "outputs": [
    {
     "name": "stdout",
     "output_type": "stream",
     "text": [
      "<class 'pandas.core.frame.DataFrame'>\n",
      "RangeIndex: 7613 entries, 0 to 7612\n",
      "Data columns (total 5 columns):\n",
      " #   Column    Non-Null Count  Dtype \n",
      "---  ------    --------------  ----- \n",
      " 0   id        7613 non-null   int64 \n",
      " 1   keyword   7552 non-null   object\n",
      " 2   location  5080 non-null   object\n",
      " 3   text      7613 non-null   object\n",
      " 4   target    7613 non-null   int64 \n",
      "dtypes: int64(2), object(3)\n",
      "memory usage: 297.5+ KB\n",
      "--------------------------------------------------\n",
      "<class 'pandas.core.frame.DataFrame'>\n",
      "RangeIndex: 3263 entries, 0 to 3262\n",
      "Data columns (total 4 columns):\n",
      " #   Column    Non-Null Count  Dtype \n",
      "---  ------    --------------  ----- \n",
      " 0   id        3263 non-null   int64 \n",
      " 1   keyword   3237 non-null   object\n",
      " 2   location  2158 non-null   object\n",
      " 3   text      3263 non-null   object\n",
      "dtypes: int64(1), object(3)\n",
      "memory usage: 102.1+ KB\n"
     ]
    }
   ],
   "source": [
    "# =============================================\n",
    "# Feature types:\n",
    "# =============================================\n",
    "\n",
    "train_data.info()\n",
    "print(\"-\"*50)\n",
    "test_data.info()"
   ]
  },
  {
   "cell_type": "markdown",
   "id": "b1dc07f2",
   "metadata": {
    "papermill": {
     "duration": 0.035313,
     "end_time": "2022-08-18T15:01:25.794170",
     "exception": false,
     "start_time": "2022-08-18T15:01:25.758857",
     "status": "completed"
    },
    "tags": []
   },
   "source": [
    "From the information above we can see that:\n",
    "- Id feature is not necessary for training so i will delete it.\n",
    "- There are blanks values in keywords and Location features so i will process them as possible as i can."
   ]
  },
  {
   "cell_type": "code",
   "execution_count": 7,
   "id": "a10d7f1b",
   "metadata": {
    "execution": {
     "iopub.execute_input": "2022-08-18T15:01:25.871619Z",
     "iopub.status.busy": "2022-08-18T15:01:25.870941Z",
     "iopub.status.idle": "2022-08-18T15:01:25.892835Z",
     "shell.execute_reply": "2022-08-18T15:01:25.889739Z"
    },
    "papermill": {
     "duration": 0.069078,
     "end_time": "2022-08-18T15:01:25.899981",
     "exception": false,
     "start_time": "2022-08-18T15:01:25.830903",
     "status": "completed"
    },
    "tags": []
   },
   "outputs": [],
   "source": [
    "# Dropping Id feature:\n",
    "Test_Id = test_data.id # We saved it for submission.\n",
    "train_data.drop(columns = [\"id\"] , inplace = True)\n",
    "test_data.drop(columns = [\"id\"] , inplace = True)"
   ]
  },
  {
   "cell_type": "code",
   "execution_count": 8,
   "id": "2180b93f",
   "metadata": {
    "execution": {
     "iopub.execute_input": "2022-08-18T15:01:25.977894Z",
     "iopub.status.busy": "2022-08-18T15:01:25.977505Z",
     "iopub.status.idle": "2022-08-18T15:01:25.994817Z",
     "shell.execute_reply": "2022-08-18T15:01:25.992721Z"
    },
    "papermill": {
     "duration": 0.043588,
     "end_time": "2022-08-18T15:01:25.998835",
     "exception": false,
     "start_time": "2022-08-18T15:01:25.955247",
     "status": "completed"
    },
    "tags": []
   },
   "outputs": [
    {
     "name": "stdout",
     "output_type": "stream",
     "text": [
      "Missed Data in train data:\n",
      "keyword       61\n",
      "location    2533\n",
      "text           0\n",
      "target         0\n",
      "dtype: int64\n",
      "--------------------------------------------------\n",
      "Missed Data in test data:\n"
     ]
    },
    {
     "data": {
      "text/plain": [
       "keyword       26\n",
       "location    1105\n",
       "text           0\n",
       "dtype: int64"
      ]
     },
     "execution_count": 8,
     "metadata": {},
     "output_type": "execute_result"
    }
   ],
   "source": [
    "# ==============================================================\n",
    "# Missing Data:\n",
    "# ==============================================================\n",
    "print(\"Missed Data in train data:\")\n",
    "print(train_data.isnull().sum())\n",
    "print(\"-\" * 50)\n",
    "print(\"Missed Data in test data:\")\n",
    "test_data.isnull().sum()"
   ]
  },
  {
   "cell_type": "markdown",
   "id": "d2f1fb2d",
   "metadata": {
    "papermill": {
     "duration": 0.020745,
     "end_time": "2022-08-18T15:01:26.040565",
     "exception": false,
     "start_time": "2022-08-18T15:01:26.019820",
     "status": "completed"
    },
    "tags": []
   },
   "source": [
    "location feature has a lot of missed data !!"
   ]
  },
  {
   "cell_type": "markdown",
   "id": "2a233281",
   "metadata": {
    "papermill": {
     "duration": 0.020314,
     "end_time": "2022-08-18T15:01:26.081464",
     "exception": false,
     "start_time": "2022-08-18T15:01:26.061150",
     "status": "completed"
    },
    "tags": []
   },
   "source": [
    "<a class = \"anchor\" id = \"hf\">\n",
    "    <div style=\"color:#00ADB5;\n",
    "           display:fill;\n",
    "           border-radius:5px;\n",
    "           background-color:#393E46;\n",
    "           font-size:20px;\n",
    "           font-family:sans-serif;\n",
    "           letter-spacing:0.5px\">\n",
    "        <p style=\"padding: 10px;\n",
    "              color:white;\">\n",
    "            <b> 4 ) Helper Functions:</b>\n",
    "        </p>\n",
    "</div>\n",
    "</a>\n",
    "\n",
    "##### In this section i will create some functions to help us in the next steps:\n",
    "\n",
    "\n",
    "\n",
    "\n"
   ]
  },
  {
   "cell_type": "markdown",
   "id": "9e4e7adb",
   "metadata": {
    "papermill": {
     "duration": 0.021433,
     "end_time": "2022-08-18T15:01:26.123858",
     "exception": false,
     "start_time": "2022-08-18T15:01:26.102425",
     "status": "completed"
    },
    "tags": []
   },
   "source": [
    "**1 ) get_corpus:**\n",
    "\n",
    "This function takes a list of strings and returns a list of the words contained in the strings **(with duplicats)**."
   ]
  },
  {
   "cell_type": "code",
   "execution_count": 9,
   "id": "7e3f2af9",
   "metadata": {
    "execution": {
     "iopub.execute_input": "2022-08-18T15:01:26.167813Z",
     "iopub.status.busy": "2022-08-18T15:01:26.167365Z",
     "iopub.status.idle": "2022-08-18T15:01:26.191626Z",
     "shell.execute_reply": "2022-08-18T15:01:26.189406Z"
    },
    "papermill": {
     "duration": 0.050504,
     "end_time": "2022-08-18T15:01:26.195982",
     "exception": false,
     "start_time": "2022-08-18T15:01:26.145478",
     "status": "completed"
    },
    "tags": []
   },
   "outputs": [
    {
     "name": "stdout",
     "output_type": "stream",
     "text": [
      "Example: ['I love kaggle!!', 'Keep going you can do it.', 'You are amazing']\n",
      "corpus: ['I', 'love', 'kaggle', '!', '!', 'Keep', 'going', 'you', 'can', 'do', 'it', '.', 'You', 'are', 'amazing']\n"
     ]
    }
   ],
   "source": [
    "def get_corpus(texts):\n",
    "    corpus = []\n",
    "    for text in texts:\n",
    "        corpus.extend(word_tokenize(text))\n",
    "    return corpus\n",
    "texts = [\"I love kaggle!!\" , \"Keep going you can do it.\" , \"You are amazing\"]\n",
    "print(f\"Example: {texts}\")\n",
    "print(f\"corpus: {get_corpus(texts)}\")"
   ]
  },
  {
   "cell_type": "markdown",
   "id": "bfeec8e6",
   "metadata": {
    "papermill": {
     "duration": 0.021191,
     "end_time": "2022-08-18T15:01:26.239031",
     "exception": false,
     "start_time": "2022-08-18T15:01:26.217840",
     "status": "completed"
    },
    "tags": []
   },
   "source": [
    "**2 ) Stop words:**\n"
   ]
  },
  {
   "cell_type": "markdown",
   "id": "48763005",
   "metadata": {
    "papermill": {
     "duration": 0.020492,
     "end_time": "2022-08-18T15:01:26.280786",
     "exception": false,
     "start_time": "2022-08-18T15:01:26.260294",
     "status": "completed"
    },
    "tags": []
   },
   "source": [
    "Stop words are a set of commonly used words in any language. For example, in English, “the”, “is” and “and”, would easily qualify as stop words. In NLP and text mining applications, **stop words are used to eliminate unimportant words, allowing applications to focus on the important words instead.**"
   ]
  },
  {
   "cell_type": "code",
   "execution_count": 10,
   "id": "84391655",
   "metadata": {
    "execution": {
     "iopub.execute_input": "2022-08-18T15:01:26.324013Z",
     "iopub.status.busy": "2022-08-18T15:01:26.323588Z",
     "iopub.status.idle": "2022-08-18T15:01:26.339826Z",
     "shell.execute_reply": "2022-08-18T15:01:26.338344Z"
    },
    "papermill": {
     "duration": 0.042314,
     "end_time": "2022-08-18T15:01:26.343822",
     "exception": false,
     "start_time": "2022-08-18T15:01:26.301508",
     "status": "completed"
    },
    "tags": []
   },
   "outputs": [
    {
     "name": "stdout",
     "output_type": "stream",
     "text": [
      "Example: ['him', 'an', 'doesn', 'their', 've', \"it's\", 'it', 'if', \"shouldn't\", 'down']\n",
      "----------------------------------------------------------------------------------------------------\n",
      "Example: Kaggle is a treasure\n",
      "Without Stop words: Kaggle treasure\n"
     ]
    }
   ],
   "source": [
    "def get_stop_words():\n",
    "    return set(stopwords.words('english'))\n",
    "    \n",
    "def remove_stop_words(text):\n",
    "    result = \"\"\n",
    "    stop_words = get_stop_words()\n",
    "    for word in get_corpus([text]):\n",
    "        if word not in stop_words:\n",
    "            result += word + \" \"\n",
    "    return result.strip()\n",
    "\n",
    "print(f\"Example: {list(get_stop_words())[:10]}\")\n",
    "print(\"-\" * 100)\n",
    "example = \"Kaggle is a treasure\"\n",
    "print(f\"Example: {example}\")\n",
    "print(f\"Without Stop words: {remove_stop_words(example)}\")"
   ]
  },
  {
   "cell_type": "markdown",
   "id": "ebba8cb5",
   "metadata": {
    "papermill": {
     "duration": 0.021443,
     "end_time": "2022-08-18T15:01:26.388027",
     "exception": false,
     "start_time": "2022-08-18T15:01:26.366584",
     "status": "completed"
    },
    "tags": []
   },
   "source": [
    "**3 ) Punctuations**"
   ]
  },
  {
   "cell_type": "markdown",
   "id": "d8ee1e86",
   "metadata": {
    "papermill": {
     "duration": 0.020727,
     "end_time": "2022-08-18T15:01:26.430331",
     "exception": false,
     "start_time": "2022-08-18T15:01:26.409604",
     "status": "completed"
    },
    "tags": []
   },
   "source": [
    "punctuations like ( \",\" , \".\" , \"!\" , \"?\" , ... )is not useful for NLP Models so we are going to remove them when training."
   ]
  },
  {
   "cell_type": "code",
   "execution_count": 11,
   "id": "5e3b3ab0",
   "metadata": {
    "execution": {
     "iopub.execute_input": "2022-08-18T15:01:26.474874Z",
     "iopub.status.busy": "2022-08-18T15:01:26.473668Z",
     "iopub.status.idle": "2022-08-18T15:01:26.483936Z",
     "shell.execute_reply": "2022-08-18T15:01:26.481731Z"
    },
    "papermill": {
     "duration": 0.035654,
     "end_time": "2022-08-18T15:01:26.486928",
     "exception": false,
     "start_time": "2022-08-18T15:01:26.451274",
     "status": "completed"
    },
    "tags": []
   },
   "outputs": [
    {
     "name": "stdout",
     "output_type": "stream",
     "text": [
      "English language has many punctuations like: !\"#$%&'()*+,-./:;<=>?@[\\]^_`{|}~\n",
      "----------------------------------------------------------------------------------------------------\n",
      "Example: \"Trust yourself that you can do it and get it !!!\"\n",
      "without punctuations: Trust yourself that you can do it and get it \n"
     ]
    }
   ],
   "source": [
    "def get_punctuation():\n",
    "    return string.punctuation\n",
    "\n",
    "def remove_punct(text):\n",
    "    table=str.maketrans('','',string.punctuation)\n",
    "    return text.translate(table)\n",
    "\n",
    "example = \"\\\"Trust yourself that you can do it and get it !!!\\\"\"\n",
    "print(f\"English language has many punctuations like: {get_punctuation()}\")\n",
    "print(\"-\" * 100)\n",
    "print(f\"Example: {example}\")\n",
    "print(f\"without punctuations: {remove_punct(example)}\")"
   ]
  },
  {
   "cell_type": "markdown",
   "id": "c35d4c30",
   "metadata": {
    "papermill": {
     "duration": 0.02032,
     "end_time": "2022-08-18T15:01:26.528552",
     "exception": false,
     "start_time": "2022-08-18T15:01:26.508232",
     "status": "completed"
    },
    "tags": []
   },
   "source": [
    "**4 ) lowecase texts:**"
   ]
  },
  {
   "cell_type": "markdown",
   "id": "5921856f",
   "metadata": {
    "papermill": {
     "duration": 0.020735,
     "end_time": "2022-08-18T15:01:26.569927",
     "exception": false,
     "start_time": "2022-08-18T15:01:26.549192",
     "status": "completed"
    },
    "tags": []
   },
   "source": [
    "Your model might treat a word which is in the beginning of a sentence with a capital letter different from the same word which appears later in the sentence but without any capital latter, This might lead to decline in the accuracy. **get_lowercase()** function take a list of texts and return list of lowercase texts."
   ]
  },
  {
   "cell_type": "code",
   "execution_count": 12,
   "id": "b4d50db5",
   "metadata": {
    "execution": {
     "iopub.execute_input": "2022-08-18T15:01:26.614881Z",
     "iopub.status.busy": "2022-08-18T15:01:26.613610Z",
     "iopub.status.idle": "2022-08-18T15:01:26.623619Z",
     "shell.execute_reply": "2022-08-18T15:01:26.621724Z"
    },
    "papermill": {
     "duration": 0.035745,
     "end_time": "2022-08-18T15:01:26.626556",
     "exception": false,
     "start_time": "2022-08-18T15:01:26.590811",
     "status": "completed"
    },
    "tags": []
   },
   "outputs": [
    {
     "name": "stdout",
     "output_type": "stream",
     "text": [
      "Example: ['I loVe kAGgle!!', 'KeeP goinG you can dO iT.', 'BE YouR SelF']\n",
      "lowercase: ['i love kaggle!!', 'keep going you can do it.', 'be your self']\n"
     ]
    }
   ],
   "source": [
    "def get_lowercase(texts):\n",
    "    lowercase_texts = []\n",
    "    for text in texts:\n",
    "        lowercase_texts.append(text.lower())\n",
    "    return lowercase_texts\n",
    "\n",
    "texts = [\"I loVe kAGgle!!\" , \"KeeP goinG you can dO iT.\" , \"BE YouR SelF\"]\n",
    "print(f\"Example: {texts}\")\n",
    "print(f\"lowercase: {get_lowercase(texts)}\")"
   ]
  },
  {
   "cell_type": "markdown",
   "id": "9f0f1213",
   "metadata": {
    "papermill": {
     "duration": 0.020166,
     "end_time": "2022-08-18T15:01:26.667820",
     "exception": false,
     "start_time": "2022-08-18T15:01:26.647654",
     "status": "completed"
    },
    "tags": []
   },
   "source": [
    "**5 ) remove urls:**"
   ]
  },
  {
   "cell_type": "markdown",
   "id": "6379b42f",
   "metadata": {
    "papermill": {
     "duration": 0.020856,
     "end_time": "2022-08-18T15:01:26.709079",
     "exception": false,
     "start_time": "2022-08-18T15:01:26.688223",
     "status": "completed"
    },
    "tags": []
   },
   "source": [
    "urls don't have any useful information and they are bad when training the model. "
   ]
  },
  {
   "cell_type": "code",
   "execution_count": 13,
   "id": "e3371e5c",
   "metadata": {
    "execution": {
     "iopub.execute_input": "2022-08-18T15:01:26.752188Z",
     "iopub.status.busy": "2022-08-18T15:01:26.751007Z",
     "iopub.status.idle": "2022-08-18T15:01:26.760342Z",
     "shell.execute_reply": "2022-08-18T15:01:26.758319Z"
    },
    "papermill": {
     "duration": 0.033212,
     "end_time": "2022-08-18T15:01:26.762973",
     "exception": false,
     "start_time": "2022-08-18T15:01:26.729761",
     "status": "completed"
    },
    "tags": []
   },
   "outputs": [
    {
     "name": "stdout",
     "output_type": "stream",
     "text": [
      "Example: www.kaggle.com is the key to success, you can login from here https://www.kaggle.com\n",
      "without urls :  is the key to success, you can login from here \n"
     ]
    }
   ],
   "source": [
    "def remove_URL(text):\n",
    "    url = re.compile(r'https?://\\S+|www\\.\\S+')\n",
    "    return url.sub(r'',text)\n",
    "\n",
    "example = \"www.kaggle.com is the key to success, you can login from here https://www.kaggle.com\"\n",
    "print(f\"Example: {example}\")\n",
    "print(f\"without urls : {remove_URL(example)}\")"
   ]
  },
  {
   "cell_type": "markdown",
   "id": "34a18f56",
   "metadata": {
    "papermill": {
     "duration": 0.019995,
     "end_time": "2022-08-18T15:01:26.803717",
     "exception": false,
     "start_time": "2022-08-18T15:01:26.783722",
     "status": "completed"
    },
    "tags": []
   },
   "source": [
    "**6 ) Removing Html tags:**"
   ]
  },
  {
   "cell_type": "code",
   "execution_count": 14,
   "id": "6d723d01",
   "metadata": {
    "execution": {
     "iopub.execute_input": "2022-08-18T15:01:26.847016Z",
     "iopub.status.busy": "2022-08-18T15:01:26.846656Z",
     "iopub.status.idle": "2022-08-18T15:01:26.853974Z",
     "shell.execute_reply": "2022-08-18T15:01:26.852560Z"
    },
    "papermill": {
     "duration": 0.032659,
     "end_time": "2022-08-18T15:01:26.857246",
     "exception": false,
     "start_time": "2022-08-18T15:01:26.824587",
     "status": "completed"
    },
    "tags": []
   },
   "outputs": [
    {
     "name": "stdout",
     "output_type": "stream",
     "text": [
      "Example: \n",
      "<div>\n",
      "<h1>Kaggle is here</h1>\n",
      "<p>You can success</p>\n",
      "<a href=\"https://www.kaggle.com/\">click me</a>\n",
      "</div>\n",
      "----------------------------------------------------------------------------------------------------\n",
      "without Html tags: \n",
      "\n",
      "Kaggle is here\n",
      "You can success\n",
      "click me\n",
      "\n"
     ]
    }
   ],
   "source": [
    "def remove_html(text):\n",
    "    html=re.compile(r'<.*?>')\n",
    "    return html.sub(r'',text)\n",
    "\n",
    "example = \"\"\"\n",
    "<div>\n",
    "<h1>Kaggle is here</h1>\n",
    "<p>You can success</p>\n",
    "<a href=\"https://www.kaggle.com/\">click me</a>\n",
    "</div>\"\"\"\n",
    "print(f\"Example: {example}\")\n",
    "print(\"-\" * 100)\n",
    "print(f\"without Html tags: {remove_html(example)}\")"
   ]
  },
  {
   "cell_type": "markdown",
   "id": "179e78eb",
   "metadata": {
    "papermill": {
     "duration": 0.020913,
     "end_time": "2022-08-18T15:01:26.898875",
     "exception": false,
     "start_time": "2022-08-18T15:01:26.877962",
     "status": "completed"
    },
    "tags": []
   },
   "source": [
    "**7 ) Removing Emojies:**"
   ]
  },
  {
   "cell_type": "code",
   "execution_count": 15,
   "id": "4a82a913",
   "metadata": {
    "execution": {
     "iopub.execute_input": "2022-08-18T15:01:26.942184Z",
     "iopub.status.busy": "2022-08-18T15:01:26.941847Z",
     "iopub.status.idle": "2022-08-18T15:01:26.955567Z",
     "shell.execute_reply": "2022-08-18T15:01:26.953733Z"
    },
    "papermill": {
     "duration": 0.038933,
     "end_time": "2022-08-18T15:01:26.958274",
     "exception": false,
     "start_time": "2022-08-18T15:01:26.919341",
     "status": "completed"
    },
    "tags": []
   },
   "outputs": [
    {
     "name": "stdout",
     "output_type": "stream",
     "text": [
      "Examples : If you can dream it, you can do it 💪🖤\n",
      "without emojies: If you can dream it, you can do it \n"
     ]
    }
   ],
   "source": [
    "def remove_emoji(text):\n",
    "    emoji_pattern = re.compile(\"[\"\n",
    "                           u\"\\U0001F600-\\U0001F64F\"  # emoticons\n",
    "                           u\"\\U0001F300-\\U0001F5FF\"  # symbols & pictographs\n",
    "                           u\"\\U0001F680-\\U0001F6FF\"  # transport & map symbols\n",
    "                           u\"\\U0001F1E0-\\U0001F1FF\"  # flags (iOS)\n",
    "                           u\"\\U00002702-\\U000027B0\"\n",
    "                           u\"\\U000024C2-\\U0001F251\"\n",
    "                           \"]+\", flags=re.UNICODE)\n",
    "    return emoji_pattern.sub(r'', text)\n",
    "\n",
    "example = \"If you can dream it, you can do it 💪🖤\"\n",
    "print(f\"Examples : {example}\")\n",
    "print(f\"without emojies: {remove_emoji(example)}\")\n"
   ]
  },
  {
   "cell_type": "markdown",
   "id": "9ebceb98",
   "metadata": {
    "papermill": {
     "duration": 0.021106,
     "end_time": "2022-08-18T15:01:27.001307",
     "exception": false,
     "start_time": "2022-08-18T15:01:26.980201",
     "status": "completed"
    },
    "tags": []
   },
   "source": [
    "**8 ) correct spelling:**"
   ]
  },
  {
   "cell_type": "code",
   "execution_count": 16,
   "id": "d9209263",
   "metadata": {
    "execution": {
     "iopub.execute_input": "2022-08-18T15:01:27.047507Z",
     "iopub.status.busy": "2022-08-18T15:01:27.046371Z",
     "iopub.status.idle": "2022-08-18T15:01:42.991557Z",
     "shell.execute_reply": "2022-08-18T15:01:42.989903Z"
    },
    "papermill": {
     "duration": 15.971652,
     "end_time": "2022-08-18T15:01:42.994860",
     "exception": false,
     "start_time": "2022-08-18T15:01:27.023208",
     "status": "completed"
    },
    "tags": []
   },
   "outputs": [],
   "source": [
    "!pip install pyspellchecker\n",
    "clear_output()"
   ]
  },
  {
   "cell_type": "code",
   "execution_count": 17,
   "id": "aeedcb4f",
   "metadata": {
    "execution": {
     "iopub.execute_input": "2022-08-18T15:01:43.041150Z",
     "iopub.status.busy": "2022-08-18T15:01:43.038781Z",
     "iopub.status.idle": "2022-08-18T15:01:43.209867Z",
     "shell.execute_reply": "2022-08-18T15:01:43.208569Z"
    },
    "papermill": {
     "duration": 0.196255,
     "end_time": "2022-08-18T15:01:43.212648",
     "exception": false,
     "start_time": "2022-08-18T15:01:43.016393",
     "status": "completed"
    },
    "tags": []
   },
   "outputs": [
    {
     "data": {
      "text/plain": [
       "'Do the best you can'"
      ]
     },
     "execution_count": 17,
     "metadata": {},
     "output_type": "execute_result"
    }
   ],
   "source": [
    "from spellchecker import SpellChecker\n",
    "\n",
    "spell = SpellChecker()\n",
    "def correct_spellings(text):\n",
    "    corrected_text = []\n",
    "    misspelled_words = spell.unknown(text.split())\n",
    "    for word in text.split():\n",
    "        if word in misspelled_words:\n",
    "            corrected_text.append(spell.correction(word))\n",
    "        else:\n",
    "            corrected_text.append(word)\n",
    "    return \" \".join(corrected_text)\n",
    "        \n",
    "text = \"Do th qest you canp\"\n",
    "correct_spellings(text)"
   ]
  },
  {
   "cell_type": "code",
   "execution_count": 18,
   "id": "6e24f86e",
   "metadata": {
    "execution": {
     "iopub.execute_input": "2022-08-18T15:01:43.257494Z",
     "iopub.status.busy": "2022-08-18T15:01:43.257111Z",
     "iopub.status.idle": "2022-08-18T15:01:43.275357Z",
     "shell.execute_reply": "2022-08-18T15:01:43.273973Z"
    },
    "papermill": {
     "duration": 0.043467,
     "end_time": "2022-08-18T15:01:43.278268",
     "exception": false,
     "start_time": "2022-08-18T15:01:43.234801",
     "status": "completed"
    },
    "tags": []
   },
   "outputs": [
    {
     "name": "stdout",
     "output_type": "stream",
     "text": [
      "Done !\n"
     ]
    }
   ],
   "source": [
    "# =======================================================================\n",
    "# Before starting, I will change all tweets by lowercase tweets:\n",
    "# =======================================================================\n",
    "train_data[\"text\"] = get_lowercase(train_data[\"text\"])\n",
    "test_data[\"text\"] = get_lowercase(test_data[\"text\"])\n",
    "print(\"Done !\")"
   ]
  },
  {
   "cell_type": "markdown",
   "id": "289cafcb",
   "metadata": {
    "papermill": {
     "duration": 0.020476,
     "end_time": "2022-08-18T15:01:43.319465",
     "exception": false,
     "start_time": "2022-08-18T15:01:43.298989",
     "status": "completed"
    },
    "tags": []
   },
   "source": [
    "Now we are ready to start with EDA Step !!"
   ]
  },
  {
   "cell_type": "markdown",
   "id": "c35141cd",
   "metadata": {
    "papermill": {
     "duration": 0.020797,
     "end_time": "2022-08-18T15:01:43.360842",
     "exception": false,
     "start_time": "2022-08-18T15:01:43.340045",
     "status": "completed"
    },
    "tags": []
   },
   "source": [
    "<a class = \"anchor\" id = \"eda\">\n",
    "    <div style=\"color:#00ADB5;\n",
    "           display:fill;\n",
    "           border-radius:5px;\n",
    "           background-color:#393E46;\n",
    "           font-size:20px;\n",
    "           font-family:sans-serif;\n",
    "           letter-spacing:0.5px\">\n",
    "        <p style=\"padding: 10px;\n",
    "              color:white;\">\n",
    "            <b> 5 ) Exploratory Data Analysis (EDA):</b>\n",
    "        </p>\n",
    "</div>\n",
    "</a>\n",
    "\n",
    "\n",
    "\n",
    "\n"
   ]
  },
  {
   "cell_type": "markdown",
   "id": "339b42e8",
   "metadata": {
    "papermill": {
     "duration": 0.021701,
     "end_time": "2022-08-18T15:01:43.404170",
     "exception": false,
     "start_time": "2022-08-18T15:01:43.382469",
     "status": "completed"
    },
    "tags": []
   },
   "source": [
    "<a class = \"anchor\" id = target >\n",
    "    <div style=\"color:black;\n",
    "               border-radius:0px;\n",
    "               background-color:#00ADB5;\n",
    "               font-size:14px;\n",
    "               font-family:sans-serif;\n",
    "               letter-spacing:0.5px\">\n",
    "            <p style=\"padding: 6px;\n",
    "                  color:white;\">\n",
    "                <b>Target:</b>\n",
    "            </p>\n",
    "    </div>\n",
    "</a>\n"
   ]
  },
  {
   "cell_type": "code",
   "execution_count": 19,
   "id": "ef96f641",
   "metadata": {
    "execution": {
     "iopub.execute_input": "2022-08-18T15:01:43.449892Z",
     "iopub.status.busy": "2022-08-18T15:01:43.448504Z",
     "iopub.status.idle": "2022-08-18T15:01:43.804036Z",
     "shell.execute_reply": "2022-08-18T15:01:43.802728Z"
    },
    "papermill": {
     "duration": 0.381227,
     "end_time": "2022-08-18T15:01:43.806826",
     "exception": false,
     "start_time": "2022-08-18T15:01:43.425599",
     "status": "completed"
    },
    "tags": []
   },
   "outputs": [
    {
     "data": {
      "image/png": "[encoded data removed]",
      "text/plain": [
       "<Figure size 576x288 with 2 Axes>"
      ]
     },
     "metadata": {},
     "output_type": "display_data"
    }
   ],
   "source": [
    "# ===================================================================\n",
    "# Count of disaster and non-disaster tweets:\n",
    "# ===================================================================\n",
    "f,ax=plt.subplots(1,2,figsize=(8,4))\n",
    "train_data['target'].replace({0:\"non-disaster\",1:\"disaster\"}).value_counts().plot.pie(explode=[0,0.1],autopct='%1.1f%%',ax=ax[0],shadow=True)\n",
    "ax[0].set_ylabel('')\n",
    "sns.countplot(x = train_data[\"target\"].replace({0:\"non-disaster\",1:\"disaster\"}) , ax = ax[1])\n",
    "ax[1].set_ylabel('')\n",
    "ax[1].set_xlabel('')\n",
    "plt.show()"
   ]
  },
  {
   "cell_type": "markdown",
   "id": "16c7ccc4",
   "metadata": {
    "papermill": {
     "duration": 0.021532,
     "end_time": "2022-08-18T15:01:43.851370",
     "exception": false,
     "start_time": "2022-08-18T15:01:43.829838",
     "status": "completed"
    },
    "tags": []
   },
   "source": [
    "non-disaster tweets are more than disaster tweets."
   ]
  },
  {
   "cell_type": "markdown",
   "id": "bbbfcd52",
   "metadata": {
    "papermill": {
     "duration": 0.020922,
     "end_time": "2022-08-18T15:01:43.894259",
     "exception": false,
     "start_time": "2022-08-18T15:01:43.873337",
     "status": "completed"
    },
    "tags": []
   },
   "source": [
    "<a class = \"anchor\" id = num_ch >\n",
    "    <div style=\"color:black;\n",
    "               border-radius:0px;\n",
    "               background-color:#00ADB5;\n",
    "               font-size:14px;\n",
    "               font-family:sans-serif;\n",
    "               letter-spacing:0.5px\">\n",
    "            <p style=\"padding: 6px;\n",
    "                  color:white;\">\n",
    "                <b>Number of charecters of tweets:</b>\n",
    "            </p>\n",
    "    </div>\n",
    "</a>\n"
   ]
  },
  {
   "cell_type": "code",
   "execution_count": 20,
   "id": "5ae6b187",
   "metadata": {
    "execution": {
     "iopub.execute_input": "2022-08-18T15:01:43.940122Z",
     "iopub.status.busy": "2022-08-18T15:01:43.939636Z",
     "iopub.status.idle": "2022-08-18T15:01:44.512371Z",
     "shell.execute_reply": "2022-08-18T15:01:44.510960Z"
    },
    "papermill": {
     "duration": 0.598861,
     "end_time": "2022-08-18T15:01:44.514895",
     "exception": false,
     "start_time": "2022-08-18T15:01:43.916034",
     "status": "completed"
    },
    "tags": []
   },
   "outputs": [
    {
     "data": {
      "image/png": "[encoded data removed]",
      "text/plain": [
       "<Figure size 720x360 with 2 Axes>"
      ]
     },
     "metadata": {},
     "output_type": "display_data"
    }
   ],
   "source": [
    "fig,ax=plt.subplots(1,2,figsize=(10,5))\n",
    "tweet_len=train_data[train_data['target']==1]['text'].str.len()\n",
    "sns.histplot(tweet_len ,kde = True , ax = ax[0]).set_title(\"disaster tweets\")\n",
    "tweet_len=train_data[train_data['target']==0]['text'].str.len()\n",
    "sns.histplot(tweet_len , kde = True ,ax = ax[1]).set_title(\"Non-disaster tweets\")\n",
    "plt.show()"
   ]
  },
  {
   "cell_type": "markdown",
   "id": "5608f3fb",
   "metadata": {
    "papermill": {
     "duration": 0.021419,
     "end_time": "2022-08-18T15:01:44.558897",
     "exception": false,
     "start_time": "2022-08-18T15:01:44.537478",
     "status": "completed"
    },
    "tags": []
   },
   "source": [
    "From the plots above we can see that the most common length of disaster and non-disaster tweets are from 120 to 140 characters\n"
   ]
  },
  {
   "cell_type": "markdown",
   "id": "52cd42d1",
   "metadata": {
    "papermill": {
     "duration": 0.023366,
     "end_time": "2022-08-18T15:01:44.604406",
     "exception": false,
     "start_time": "2022-08-18T15:01:44.581040",
     "status": "completed"
    },
    "tags": []
   },
   "source": [
    "<a class = \"anchor\" id = num_wr >\n",
    "    <div style=\"color:black;\n",
    "               border-radius:0px;\n",
    "               background-color:#00ADB5;\n",
    "               font-size:14px;\n",
    "               font-family:sans-serif;\n",
    "               letter-spacing:0.5px\">\n",
    "            <p style=\"padding: 6px;\n",
    "                  color:white;\">\n",
    "                <b>Number of words of tweets:</b>\n",
    "            </p>\n",
    "    </div>\n",
    "</a>\n"
   ]
  },
  {
   "cell_type": "code",
   "execution_count": 21,
   "id": "e74972c2",
   "metadata": {
    "execution": {
     "iopub.execute_input": "2022-08-18T15:01:44.653581Z",
     "iopub.status.busy": "2022-08-18T15:01:44.652272Z",
     "iopub.status.idle": "2022-08-18T15:01:45.221169Z",
     "shell.execute_reply": "2022-08-18T15:01:45.219736Z"
    },
    "papermill": {
     "duration": 0.596194,
     "end_time": "2022-08-18T15:01:45.224086",
     "exception": false,
     "start_time": "2022-08-18T15:01:44.627892",
     "status": "completed"
    },
    "tags": []
   },
   "outputs": [
    {
     "data": {
      "image/png": "[encoded data removed]",
      "text/plain": [
       "<Figure size 720x360 with 2 Axes>"
      ]
     },
     "metadata": {},
     "output_type": "display_data"
    }
   ],
   "source": [
    "fig,ax=plt.subplots(1,2,figsize=(10,5))\n",
    "tweet_len=train_data[train_data['target']==1]['text'].str.split().map(lambda x: len(x))\n",
    "sns.histplot(tweet_len ,kde = True , ax = ax[0]).set_title(\"disaster tweets\")\n",
    "tweet_len=train_data[train_data['target']==0]['text'].str.split().map(lambda x: len(x))\n",
    "sns.histplot(tweet_len , kde = True ,ax = ax[1]).set_title(\"Non-disaster tweets\")\n",
    "plt.show()"
   ]
  },
  {
   "cell_type": "markdown",
   "id": "191d8f85",
   "metadata": {
    "papermill": {
     "duration": 0.022771,
     "end_time": "2022-08-18T15:01:45.271090",
     "exception": false,
     "start_time": "2022-08-18T15:01:45.248319",
     "status": "completed"
    },
    "tags": []
   },
   "source": [
    "words count for disaster and non-disaster tweets are approximately similar."
   ]
  },
  {
   "cell_type": "markdown",
   "id": "4c0e0c96",
   "metadata": {
    "papermill": {
     "duration": 0.022814,
     "end_time": "2022-08-18T15:01:45.316894",
     "exception": false,
     "start_time": "2022-08-18T15:01:45.294080",
     "status": "completed"
    },
    "tags": []
   },
   "source": [
    "<a class = \"anchor\" id = len_wr >\n",
    "    <div style=\"color:black;\n",
    "               border-radius:0px;\n",
    "               background-color:#00ADB5;\n",
    "               font-size:14px;\n",
    "               font-family:sans-serif;\n",
    "               letter-spacing:0.5px\">\n",
    "            <p style=\"padding: 6px;\n",
    "                  color:white;\">\n",
    "                <b>Average word length in a tweet:</b>\n",
    "            </p>\n",
    "    </div>\n",
    "</a>\n"
   ]
  },
  {
   "cell_type": "code",
   "execution_count": 22,
   "id": "6c4455c4",
   "metadata": {
    "execution": {
     "iopub.execute_input": "2022-08-18T15:01:45.366157Z",
     "iopub.status.busy": "2022-08-18T15:01:45.365711Z",
     "iopub.status.idle": "2022-08-18T15:01:46.284731Z",
     "shell.execute_reply": "2022-08-18T15:01:46.282610Z"
    },
    "papermill": {
     "duration": 0.948396,
     "end_time": "2022-08-18T15:01:46.288645",
     "exception": false,
     "start_time": "2022-08-18T15:01:45.340249",
     "status": "completed"
    },
    "tags": []
   },
   "outputs": [
    {
     "data": {
      "image/png": "[encoded data removed]",
      "text/plain": [
       "<Figure size 720x360 with 2 Axes>"
      ]
     },
     "metadata": {},
     "output_type": "display_data"
    },
    {
     "name": "stdout",
     "output_type": "stream",
     "text": [
      "Average word lengths for disaster tweets: 6.469866063188727 with standard deviation 1.5167055641679672\n",
      "Average word lengths for non-disaster tweets: 5.871324779540672 with standard deviation 1.7419493133031982\n"
     ]
    }
   ],
   "source": [
    "fig,ax=plt.subplots(1,2,figsize=(10,5))\n",
    "word_len=train_data[train_data['target']==1]['text'].str.split().apply(lambda x : [len(i) for i in x])\n",
    "word_len_avg_disaster = word_len.map(lambda x: np.mean(x))\n",
    "sns.histplot(word_len_avg_disaster,ax=ax[0],color='red' , kde = True).set_title(\"disaster\")\n",
    "word_len=train_data[train_data['target']==0]['text'].str.split().apply(lambda x : [len(i) for i in x])\n",
    "word_len_avg_non_disaster = word_len.map(lambda x: np.mean(x))\n",
    "sns.histplot(word_len_avg_non_disaster,ax=ax[1],color='blue', kde = True).set_title(\"non-disaster\")\n",
    "fig.suptitle('Average word length in each tweet')\n",
    "plt.show()\n",
    "print(f\"Average word lengths for disaster tweets: {np.mean(word_len_avg_disaster)} with standard deviation {np.std(word_len_avg_disaster)}\")\n",
    "print(f\"Average word lengths for non-disaster tweets: {np.mean(word_len_avg_non_disaster)} with standard deviation {np.std(word_len_avg_non_disaster)}\")"
   ]
  },
  {
   "cell_type": "markdown",
   "id": "9be9e8f3",
   "metadata": {
    "papermill": {
     "duration": 0.022635,
     "end_time": "2022-08-18T15:01:46.337338",
     "exception": false,
     "start_time": "2022-08-18T15:01:46.314703",
     "status": "completed"
    },
    "tags": []
   },
   "source": [
    "most common word lengths for non-disaster tweets are less than word lengths of non-disaster tweets"
   ]
  },
  {
   "cell_type": "markdown",
   "id": "fc84018f",
   "metadata": {
    "papermill": {
     "duration": 0.023892,
     "end_time": "2022-08-18T15:01:46.384607",
     "exception": false,
     "start_time": "2022-08-18T15:01:46.360715",
     "status": "completed"
    },
    "tags": []
   },
   "source": [
    "<a class = \"anchor\" id = sw >\n",
    "    <div style=\"color:black;\n",
    "               border-radius:0px;\n",
    "               background-color:#00ADB5;\n",
    "               font-size:14px;\n",
    "               font-family:sans-serif;\n",
    "               letter-spacing:0.5px\">\n",
    "            <p style=\"padding: 6px;\n",
    "                  color:white;\">\n",
    "                <b>Stopwords, punctuations:</b>\n",
    "            </p>\n",
    "    </div>\n",
    "</a>\n"
   ]
  },
  {
   "cell_type": "code",
   "execution_count": 23,
   "id": "0fa799e3",
   "metadata": {
    "execution": {
     "iopub.execute_input": "2022-08-18T15:01:46.433861Z",
     "iopub.status.busy": "2022-08-18T15:01:46.433405Z",
     "iopub.status.idle": "2022-08-18T15:01:48.544576Z",
     "shell.execute_reply": "2022-08-18T15:01:48.543129Z"
    },
    "papermill": {
     "duration": 2.140131,
     "end_time": "2022-08-18T15:01:48.547907",
     "exception": false,
     "start_time": "2022-08-18T15:01:46.407776",
     "status": "completed"
    },
    "tags": []
   },
   "outputs": [],
   "source": [
    "# disaster and non-disaster tweet corpuses:\n",
    "corpus_disaster = get_corpus(train_data[train_data[\"target\"] == 1][\"text\"])\n",
    "corpus_non_disaster = get_corpus(train_data[train_data[\"target\"] == 0][\"text\"])"
   ]
  },
  {
   "cell_type": "code",
   "execution_count": 24,
   "id": "e8073a59",
   "metadata": {
    "execution": {
     "iopub.execute_input": "2022-08-18T15:01:48.604641Z",
     "iopub.status.busy": "2022-08-18T15:01:48.604219Z",
     "iopub.status.idle": "2022-08-18T15:01:49.377394Z",
     "shell.execute_reply": "2022-08-18T15:01:49.375716Z"
    },
    "papermill": {
     "duration": 0.805185,
     "end_time": "2022-08-18T15:01:49.380406",
     "exception": false,
     "start_time": "2022-08-18T15:01:48.575221",
     "status": "completed"
    },
    "tags": []
   },
   "outputs": [
    {
     "data": {
      "text/plain": [
       "Text(0.5, 0.98, 'Stop words in disaster Vs non-disaster tweets')"
      ]
     },
     "execution_count": 24,
     "metadata": {},
     "output_type": "execute_result"
    },
    {
     "data": {
      "image/png": "[encoded data removed]",
      "text/plain": [
       "<Figure size 864x288 with 2 Axes>"
      ]
     },
     "metadata": {},
     "output_type": "display_data"
    }
   ],
   "source": [
    "# =====================================================================\n",
    "# STOPWORDS:\n",
    "# =====================================================================\n",
    "# getting english stop words ..\n",
    "eng_stop_words = get_stop_words()\n",
    "# =====================================================================\n",
    "# disaster tweet stop words:\n",
    "stop_words_dic=defaultdict(int)\n",
    "for word in corpus_disaster:\n",
    "    if word in eng_stop_words:\n",
    "        stop_words_dic[word]+=1\n",
    "\n",
    "fig , ax = plt.subplots(1 , 2 , figsize = (12 , 4))\n",
    "top=sorted(stop_words_dic.items(), key=lambda x:x[1],reverse=True)[:10] \n",
    "x,y=zip(*top)\n",
    "sns.barplot(x = list(x), y = list(y), ax = ax[0]).set_title(\"disaster stop words\")\n",
    "# =====================================================================\n",
    "# non-disaster tweet stop words:\n",
    "stop_words_dic=defaultdict(int)\n",
    "\n",
    "for word in corpus_non_disaster:\n",
    "    if word in eng_stop_words:\n",
    "        stop_words_dic[word]+=1\n",
    "\n",
    "top=sorted(stop_words_dic.items(), key=lambda x:x[1],reverse=True)[:10] \n",
    "x,y=zip(*top)\n",
    "sns.barplot(x = list(x), y = list(y), ax = ax[1]).set_title(\"non-disaster stop words\")\n",
    "fig.suptitle('Stop words in disaster Vs non-disaster tweets')"
   ]
  },
  {
   "cell_type": "markdown",
   "id": "da571961",
   "metadata": {
    "papermill": {
     "duration": 0.023482,
     "end_time": "2022-08-18T15:01:49.429032",
     "exception": false,
     "start_time": "2022-08-18T15:01:49.405550",
     "status": "completed"
    },
    "tags": []
   },
   "source": [
    "disaster tweets have more \"in\" word than non_disaster tweets "
   ]
  },
  {
   "cell_type": "code",
   "execution_count": 25,
   "id": "4fe99843",
   "metadata": {
    "execution": {
     "iopub.execute_input": "2022-08-18T15:01:49.480299Z",
     "iopub.status.busy": "2022-08-18T15:01:49.479131Z",
     "iopub.status.idle": "2022-08-18T15:01:49.956471Z",
     "shell.execute_reply": "2022-08-18T15:01:49.955030Z"
    },
    "papermill": {
     "duration": 0.505844,
     "end_time": "2022-08-18T15:01:49.959775",
     "exception": false,
     "start_time": "2022-08-18T15:01:49.453931",
     "status": "completed"
    },
    "tags": []
   },
   "outputs": [
    {
     "data": {
      "text/plain": [
       "Text(0.5, 0.98, 'Punctuations in disaster Vs non-disaster tweets')"
      ]
     },
     "execution_count": 25,
     "metadata": {},
     "output_type": "execute_result"
    },
    {
     "data": {
      "image/png": "[encoded data removed]",
      "text/plain": [
       "<Figure size 864x288 with 2 Axes>"
      ]
     },
     "metadata": {},
     "output_type": "display_data"
    }
   ],
   "source": [
    "# =====================================================================\n",
    "# PUNCTUATIONS:\n",
    "# =====================================================================\n",
    "# getting english punctuations:\n",
    "eng_puncs = get_punctuation()\n",
    "# =====================================================================\n",
    "# disaster tweet stop words:\n",
    "puncs_dic=defaultdict(int)\n",
    "for word in corpus_disaster:\n",
    "    if word in eng_puncs:\n",
    "        puncs_dic[word]+=1\n",
    "\n",
    "fig , ax = plt.subplots(1 , 2 , figsize = (12 , 4))\n",
    "top=sorted(puncs_dic.items(), key=lambda x:x[1],reverse=True)[:10] \n",
    "x,y=zip(*top)\n",
    "sns.barplot(x = list(x), y = list(y), ax = ax[0]).set_title(\"disaster punctuations\")\n",
    "# =====================================================================\n",
    "# non-disaster tweet stop words:\n",
    "puncs_dic=defaultdict(int)\n",
    "for word in corpus_non_disaster:\n",
    "    if word in eng_puncs:\n",
    "        puncs_dic[word]+=1\n",
    "\n",
    "top=sorted(puncs_dic.items(), key=lambda x:x[1],reverse=True)[:10] \n",
    "x,y=zip(*top)\n",
    "sns.barplot(x = list(x), y = list(y), ax = ax[1]).set_title(\"non-disaster punctuations\")\n",
    "fig.suptitle('Punctuations in disaster Vs non-disaster tweets')\n"
   ]
  },
  {
   "cell_type": "markdown",
   "id": "199de588",
   "metadata": {
    "execution": {
     "iopub.execute_input": "2022-08-17T09:28:44.884782Z",
     "iopub.status.busy": "2022-08-17T09:28:44.884061Z",
     "iopub.status.idle": "2022-08-17T09:28:44.892382Z",
     "shell.execute_reply": "2022-08-17T09:28:44.890817Z",
     "shell.execute_reply.started": "2022-08-17T09:28:44.884736Z"
    },
    "papermill": {
     "duration": 0.024515,
     "end_time": "2022-08-18T15:01:50.010260",
     "exception": false,
     "start_time": "2022-08-18T15:01:49.985745",
     "status": "completed"
    },
    "tags": []
   },
   "source": [
    "<a class = \"anchor\" id = mcw >\n",
    "    <div style=\"color:black;\n",
    "               border-radius:0px;\n",
    "               background-color:#00ADB5;\n",
    "               font-size:14px;\n",
    "               font-family:sans-serif;\n",
    "               letter-spacing:0.5px\">\n",
    "            <p style=\"padding: 6px;\n",
    "                  color:white;\">\n",
    "                <b>Most Common Words:</b>\n",
    "            </p>\n",
    "    </div>\n",
    "</a>\n"
   ]
  },
  {
   "cell_type": "code",
   "execution_count": 26,
   "id": "0d848c57",
   "metadata": {
    "execution": {
     "iopub.execute_input": "2022-08-18T15:01:50.063250Z",
     "iopub.status.busy": "2022-08-18T15:01:50.061987Z",
     "iopub.status.idle": "2022-08-18T15:01:50.552107Z",
     "shell.execute_reply": "2022-08-18T15:01:50.550846Z"
    },
    "papermill": {
     "duration": 0.520038,
     "end_time": "2022-08-18T15:01:50.555239",
     "exception": false,
     "start_time": "2022-08-18T15:01:50.035201",
     "status": "completed"
    },
    "tags": []
   },
   "outputs": [
    {
     "data": {
      "text/plain": [
       "Text(0.5, 1.0, 'Non-Disaster tweet most common words')"
      ]
     },
     "execution_count": 26,
     "metadata": {},
     "output_type": "execute_result"
    },
    {
     "data": {
      "image/png": "[encoded data removed]",
      "text/plain": [
       "<Figure size 864x288 with 2 Axes>"
      ]
     },
     "metadata": {},
     "output_type": "display_data"
    }
   ],
   "source": [
    "# ===============================================\n",
    "# Disaster most common words:\n",
    "counter=Counter(corpus_disaster)\n",
    "most=counter.most_common()\n",
    "words=[]\n",
    "freq=[]\n",
    "for word,count in most:\n",
    "    if (word not in eng_stop_words) and (word not in eng_puncs) :\n",
    "        words.append(word)\n",
    "        freq.append(count)\n",
    "\n",
    "fig , ax = plt.subplots(1 , 2 , figsize = (12,4) )\n",
    "sns.barplot(x = freq[:10] , y = words[:10] , ax = ax[0]).set_title(\"Disaster tweet most common words\")\n",
    "# ===============================================\n",
    "# Non-Disaster most common words:\n",
    "\n",
    "counter=Counter(corpus_non_disaster)\n",
    "most=counter.most_common()\n",
    "words=[]\n",
    "freq=[]\n",
    "for word,count in most:\n",
    "    if (word not in eng_stop_words) and (word not in eng_puncs) :\n",
    "        words.append(word)\n",
    "        freq.append(count)\n",
    "\n",
    "sns.barplot(x = freq[:10] , y = words[:10] , ax = ax[1]).set_title(\"Non-Disaster tweet most common words\")\n"
   ]
  },
  {
   "cell_type": "markdown",
   "id": "69177138",
   "metadata": {
    "papermill": {
     "duration": 0.026646,
     "end_time": "2022-08-18T15:01:50.608967",
     "exception": false,
     "start_time": "2022-08-18T15:01:50.582321",
     "status": "completed"
    },
    "tags": []
   },
   "source": [
    "We have a lot of data cleaning !!"
   ]
  },
  {
   "cell_type": "markdown",
   "id": "c0fb2ee6",
   "metadata": {
    "papermill": {
     "duration": 0.026318,
     "end_time": "2022-08-18T15:01:50.662420",
     "exception": false,
     "start_time": "2022-08-18T15:01:50.636102",
     "status": "completed"
    },
    "tags": []
   },
   "source": [
    "<a class = \"anchor\" id = ngram >\n",
    "    <div style=\"color:black;\n",
    "               border-radius:0px;\n",
    "               background-color:#00ADB5;\n",
    "               font-size:14px;\n",
    "               font-family:sans-serif;\n",
    "               letter-spacing:0.5px\">\n",
    "            <p style=\"padding: 6px;\n",
    "                  color:white;\">\n",
    "                <b>Ngram Analysis:</b>\n",
    "            </p>\n",
    "    </div>\n",
    "</a>\n"
   ]
  },
  {
   "cell_type": "code",
   "execution_count": 27,
   "id": "a13b6918",
   "metadata": {
    "execution": {
     "iopub.execute_input": "2022-08-18T15:01:50.718606Z",
     "iopub.status.busy": "2022-08-18T15:01:50.718191Z",
     "iopub.status.idle": "2022-08-18T15:01:50.726400Z",
     "shell.execute_reply": "2022-08-18T15:01:50.724848Z"
    },
    "papermill": {
     "duration": 0.039296,
     "end_time": "2022-08-18T15:01:50.729159",
     "exception": false,
     "start_time": "2022-08-18T15:01:50.689863",
     "status": "completed"
    },
    "tags": []
   },
   "outputs": [],
   "source": [
    "def get_top_tweet_bigrams(corpus, n=None):\n",
    "    vec = CountVectorizer(ngram_range=(2, 2)).fit(corpus)\n",
    "    bag_of_words = vec.transform(corpus)\n",
    "    sum_words = bag_of_words.sum(axis=0) \n",
    "    words_freq = [(word, sum_words[0, idx]) for word, idx in vec.vocabulary_.items()]\n",
    "    words_freq =sorted(words_freq, key = lambda x: x[1], reverse=True)\n",
    "    return words_freq[:n]"
   ]
  },
  {
   "cell_type": "code",
   "execution_count": 28,
   "id": "ecd04e29",
   "metadata": {
    "execution": {
     "iopub.execute_input": "2022-08-18T15:01:50.784727Z",
     "iopub.status.busy": "2022-08-18T15:01:50.784296Z",
     "iopub.status.idle": "2022-08-18T15:01:51.848444Z",
     "shell.execute_reply": "2022-08-18T15:01:51.846875Z"
    },
    "papermill": {
     "duration": 1.095698,
     "end_time": "2022-08-18T15:01:51.851436",
     "exception": false,
     "start_time": "2022-08-18T15:01:50.755738",
     "status": "completed"
    },
    "tags": []
   },
   "outputs": [
    {
     "data": {
      "text/plain": [
       "<AxesSubplot:>"
      ]
     },
     "execution_count": 28,
     "metadata": {},
     "output_type": "execute_result"
    },
    {
     "data": {
      "image/png": "[encoded data removed]",
      "text/plain": [
       "<Figure size 864x288 with 2 Axes>"
      ]
     },
     "metadata": {},
     "output_type": "display_data"
    }
   ],
   "source": [
    "fig , ax = plt.subplots(1 , 2 , figsize=(12,4))\n",
    "top_tweet_bigrams_disaster=get_top_tweet_bigrams(train_data[train_data[\"target\"] == 1]['text'])[:10]\n",
    "top_tweet_bigrams_non_disaster=get_top_tweet_bigrams(train_data[train_data[\"target\"] == 0]['text'])[:10]\n",
    "x,y=map(list,zip(*top_tweet_bigrams_disaster))\n",
    "sns.barplot(x=y,y=x , ax = ax[0])\n",
    "x,y=map(list,zip(*top_tweet_bigrams_non_disaster))\n",
    "sns.barplot(x=y,y=x , ax = ax[1])"
   ]
  },
  {
   "cell_type": "markdown",
   "id": "ea77b46e",
   "metadata": {
    "papermill": {
     "duration": 0.026806,
     "end_time": "2022-08-18T15:01:51.906861",
     "exception": false,
     "start_time": "2022-08-18T15:01:51.880055",
     "status": "completed"
    },
    "tags": []
   },
   "source": [
    "We have a lot of data cleaning Again ^-^ !!"
   ]
  },
  {
   "cell_type": "markdown",
   "id": "04cd8d19",
   "metadata": {
    "papermill": {
     "duration": 0.026505,
     "end_time": "2022-08-18T15:01:51.960906",
     "exception": false,
     "start_time": "2022-08-18T15:01:51.934401",
     "status": "completed"
    },
    "tags": []
   },
   "source": [
    "<a class = \"anchor\" id = \"dc\">\n",
    "    <div style=\"color:#00ADB5;\n",
    "           display:fill;\n",
    "           border-radius:5px;\n",
    "           background-color:#393E46;\n",
    "           font-size:20px;\n",
    "           font-family:sans-serif;\n",
    "           letter-spacing:0.5px\">\n",
    "        <p style=\"padding: 10px;\n",
    "              color:white;\">\n",
    "            <b> 6 ) Data Cleaning:</b>\n",
    "        </p>\n",
    "</div>\n",
    "</a>\n",
    "\n",
    "\n",
    "\n",
    "\n"
   ]
  },
  {
   "cell_type": "markdown",
   "id": "7ce5382e",
   "metadata": {
    "papermill": {
     "duration": 0.027532,
     "end_time": "2022-08-18T15:01:52.016439",
     "exception": false,
     "start_time": "2022-08-18T15:01:51.988907",
     "status": "completed"
    },
    "tags": []
   },
   "source": [
    "First of all we are going to merge training and testing data to apply data cleaning on them together."
   ]
  },
  {
   "cell_type": "code",
   "execution_count": 29,
   "id": "5b3b76ac",
   "metadata": {
    "execution": {
     "iopub.execute_input": "2022-08-18T15:01:52.072147Z",
     "iopub.status.busy": "2022-08-18T15:01:52.071752Z",
     "iopub.status.idle": "2022-08-18T15:01:52.090881Z",
     "shell.execute_reply": "2022-08-18T15:01:52.089198Z"
    },
    "papermill": {
     "duration": 0.05035,
     "end_time": "2022-08-18T15:01:52.094169",
     "exception": false,
     "start_time": "2022-08-18T15:01:52.043819",
     "status": "completed"
    },
    "tags": []
   },
   "outputs": [
    {
     "data": {
      "text/html": [
       "<div>\n",
       "<style scoped>\n",
       "    .dataframe tbody tr th:only-of-type {\n",
       "        vertical-align: middle;\n",
       "    }\n",
       "\n",
       "    .dataframe tbody tr th {\n",
       "        vertical-align: top;\n",
       "    }\n",
       "\n",
       "    .dataframe thead th {\n",
       "        text-align: right;\n",
       "    }\n",
       "</style>\n",
       "<table border=\"1\" class=\"dataframe\">\n",
       "  <thead>\n",
       "    <tr style=\"text-align: right;\">\n",
       "      <th></th>\n",
       "      <th>keyword</th>\n",
       "      <th>location</th>\n",
       "      <th>text</th>\n",
       "    </tr>\n",
       "  </thead>\n",
       "  <tbody>\n",
       "    <tr>\n",
       "      <th>0</th>\n",
       "      <td>NaN</td>\n",
       "      <td>NaN</td>\n",
       "      <td>our deeds are the reason of this #earthquake m...</td>\n",
       "    </tr>\n",
       "    <tr>\n",
       "      <th>1</th>\n",
       "      <td>NaN</td>\n",
       "      <td>NaN</td>\n",
       "      <td>forest fire near la ronge sask. canada</td>\n",
       "    </tr>\n",
       "    <tr>\n",
       "      <th>2</th>\n",
       "      <td>NaN</td>\n",
       "      <td>NaN</td>\n",
       "      <td>all residents asked to 'shelter in place' are ...</td>\n",
       "    </tr>\n",
       "    <tr>\n",
       "      <th>3</th>\n",
       "      <td>NaN</td>\n",
       "      <td>NaN</td>\n",
       "      <td>13,000 people receive #wildfires evacuation or...</td>\n",
       "    </tr>\n",
       "    <tr>\n",
       "      <th>4</th>\n",
       "      <td>NaN</td>\n",
       "      <td>NaN</td>\n",
       "      <td>just got sent this photo from ruby #alaska as ...</td>\n",
       "    </tr>\n",
       "  </tbody>\n",
       "</table>\n",
       "</div>"
      ],
      "text/plain": [
       "  keyword location                                               text\n",
       "0     NaN      NaN  our deeds are the reason of this #earthquake m...\n",
       "1     NaN      NaN             forest fire near la ronge sask. canada\n",
       "2     NaN      NaN  all residents asked to 'shelter in place' are ...\n",
       "3     NaN      NaN  13,000 people receive #wildfires evacuation or...\n",
       "4     NaN      NaN  just got sent this photo from ruby #alaska as ..."
      ]
     },
     "execution_count": 29,
     "metadata": {},
     "output_type": "execute_result"
    }
   ],
   "source": [
    "target = train_data[\"target\"] # save the target for training step.\n",
    "all_data = pd.concat([train_data,test_data]).reset_index(drop = True)\n",
    "all_data.drop(columns = [\"target\"] , inplace = True)\n",
    "all_data.head()"
   ]
  },
  {
   "cell_type": "markdown",
   "id": "8be0cba0",
   "metadata": {
    "papermill": {
     "duration": 0.052062,
     "end_time": "2022-08-18T15:01:52.175862",
     "exception": false,
     "start_time": "2022-08-18T15:01:52.123800",
     "status": "completed"
    },
    "tags": []
   },
   "source": [
    "This DataFrame contain all data (training and testing)"
   ]
  },
  {
   "cell_type": "markdown",
   "id": "f7b98333",
   "metadata": {
    "papermill": {
     "duration": 0.027554,
     "end_time": "2022-08-18T15:01:52.231071",
     "exception": false,
     "start_time": "2022-08-18T15:01:52.203517",
     "status": "completed"
    },
    "tags": []
   },
   "source": [
    "<a class = \"anchor\" id = rm_urls >\n",
    "    <div style=\"color:black;\n",
    "               border-radius:0px;\n",
    "               background-color:#00ADB5;\n",
    "               font-size:14px;\n",
    "               font-family:sans-serif;\n",
    "               letter-spacing:0.5px\">\n",
    "            <p style=\"padding: 6px;\n",
    "                  color:white;\">\n",
    "                <b>Removing urls:</b>\n",
    "            </p>\n",
    "    </div>\n",
    "</a>\n"
   ]
  },
  {
   "cell_type": "code",
   "execution_count": 30,
   "id": "a448a753",
   "metadata": {
    "execution": {
     "iopub.execute_input": "2022-08-18T15:01:52.290054Z",
     "iopub.status.busy": "2022-08-18T15:01:52.289536Z",
     "iopub.status.idle": "2022-08-18T15:01:52.326582Z",
     "shell.execute_reply": "2022-08-18T15:01:52.325206Z"
    },
    "papermill": {
     "duration": 0.070222,
     "end_time": "2022-08-18T15:01:52.329629",
     "exception": false,
     "start_time": "2022-08-18T15:01:52.259407",
     "status": "completed"
    },
    "tags": []
   },
   "outputs": [],
   "source": [
    "all_data['text']=all_data['text'].apply(lambda x : remove_URL(x))"
   ]
  },
  {
   "cell_type": "markdown",
   "id": "6a355fae",
   "metadata": {
    "papermill": {
     "duration": 0.027185,
     "end_time": "2022-08-18T15:01:52.383868",
     "exception": false,
     "start_time": "2022-08-18T15:01:52.356683",
     "status": "completed"
    },
    "tags": []
   },
   "source": [
    "<a class = \"anchor\" id = rm_html >\n",
    "    <div style=\"color:black;\n",
    "               border-radius:0px;\n",
    "               background-color:#00ADB5;\n",
    "               font-size:14px;\n",
    "               font-family:sans-serif;\n",
    "               letter-spacing:0.5px\">\n",
    "            <p style=\"padding: 6px;\n",
    "                  color:white;\">\n",
    "                <b>Removing Html tags:</b>\n",
    "            </p>\n",
    "    </div>\n",
    "</a>\n"
   ]
  },
  {
   "cell_type": "code",
   "execution_count": 31,
   "id": "d037c233",
   "metadata": {
    "execution": {
     "iopub.execute_input": "2022-08-18T15:01:52.443055Z",
     "iopub.status.busy": "2022-08-18T15:01:52.442010Z",
     "iopub.status.idle": "2022-08-18T15:01:52.467289Z",
     "shell.execute_reply": "2022-08-18T15:01:52.465984Z"
    },
    "papermill": {
     "duration": 0.057714,
     "end_time": "2022-08-18T15:01:52.470127",
     "exception": false,
     "start_time": "2022-08-18T15:01:52.412413",
     "status": "completed"
    },
    "tags": []
   },
   "outputs": [],
   "source": [
    "all_data['text']=all_data['text'].apply(lambda x : remove_html(x))"
   ]
  },
  {
   "cell_type": "markdown",
   "id": "bc045c41",
   "metadata": {
    "execution": {
     "iopub.execute_input": "2022-08-17T12:09:25.893663Z",
     "iopub.status.busy": "2022-08-17T12:09:25.891974Z",
     "iopub.status.idle": "2022-08-17T12:09:25.904147Z",
     "shell.execute_reply": "2022-08-17T12:09:25.902180Z",
     "shell.execute_reply.started": "2022-08-17T12:09:25.893583Z"
    },
    "papermill": {
     "duration": 0.027137,
     "end_time": "2022-08-18T15:01:52.525621",
     "exception": false,
     "start_time": "2022-08-18T15:01:52.498484",
     "status": "completed"
    },
    "tags": []
   },
   "source": [
    "<a class = \"anchor\" id = rm_emojies >\n",
    "    <div style=\"color:black;\n",
    "               border-radius:0px;\n",
    "               background-color:#00ADB5;\n",
    "               font-size:14px;\n",
    "               font-family:sans-serif;\n",
    "               letter-spacing:0.5px\">\n",
    "            <p style=\"padding: 6px;\n",
    "                  color:white;\">\n",
    "                <b>Removing Emojies:</b>\n",
    "            </p>\n",
    "    </div>\n",
    "</a>\n"
   ]
  },
  {
   "cell_type": "code",
   "execution_count": 32,
   "id": "113fda51",
   "metadata": {
    "execution": {
     "iopub.execute_input": "2022-08-18T15:01:52.583047Z",
     "iopub.status.busy": "2022-08-18T15:01:52.582028Z",
     "iopub.status.idle": "2022-08-18T15:01:52.638888Z",
     "shell.execute_reply": "2022-08-18T15:01:52.637570Z"
    },
    "papermill": {
     "duration": 0.08938,
     "end_time": "2022-08-18T15:01:52.641783",
     "exception": false,
     "start_time": "2022-08-18T15:01:52.552403",
     "status": "completed"
    },
    "tags": []
   },
   "outputs": [],
   "source": [
    "all_data['text']=all_data['text'].apply(lambda x : remove_emoji(x))"
   ]
  },
  {
   "cell_type": "markdown",
   "id": "eaea4ec5",
   "metadata": {
    "papermill": {
     "duration": 0.026859,
     "end_time": "2022-08-18T15:01:52.696661",
     "exception": false,
     "start_time": "2022-08-18T15:01:52.669802",
     "status": "completed"
    },
    "tags": []
   },
   "source": [
    "<a class = \"anchor\" id = rm_puncs >\n",
    "    <div style=\"color:black;\n",
    "               border-radius:0px;\n",
    "               background-color:#00ADB5;\n",
    "               font-size:14px;\n",
    "               font-family:sans-serif;\n",
    "               letter-spacing:0.5px\">\n",
    "            <p style=\"padding: 6px;\n",
    "                  color:white;\">\n",
    "                <b>Removing Punctuations:</b>\n",
    "            </p>\n",
    "    </div>\n",
    "</a>\n"
   ]
  },
  {
   "cell_type": "code",
   "execution_count": 33,
   "id": "b31c2606",
   "metadata": {
    "execution": {
     "iopub.execute_input": "2022-08-18T15:01:52.754481Z",
     "iopub.status.busy": "2022-08-18T15:01:52.754042Z",
     "iopub.status.idle": "2022-08-18T15:01:52.823604Z",
     "shell.execute_reply": "2022-08-18T15:01:52.822168Z"
    },
    "papermill": {
     "duration": 0.10305,
     "end_time": "2022-08-18T15:01:52.826944",
     "exception": false,
     "start_time": "2022-08-18T15:01:52.723894",
     "status": "completed"
    },
    "tags": []
   },
   "outputs": [],
   "source": [
    "all_data['text']=all_data['text'].apply(lambda x : remove_punct(x))"
   ]
  },
  {
   "cell_type": "markdown",
   "id": "52e47b73",
   "metadata": {
    "papermill": {
     "duration": 0.02702,
     "end_time": "2022-08-18T15:01:52.882626",
     "exception": false,
     "start_time": "2022-08-18T15:01:52.855606",
     "status": "completed"
    },
    "tags": []
   },
   "source": [
    "<a class = \"anchor\" id = rm_sw >\n",
    "    <div style=\"color:black;\n",
    "               border-radius:0px;\n",
    "               background-color:#00ADB5;\n",
    "               font-size:14px;\n",
    "               font-family:sans-serif;\n",
    "               letter-spacing:0.5px\">\n",
    "            <p style=\"padding: 6px;\n",
    "                  color:white;\">\n",
    "                <b>Removing Stopwords:</b>\n",
    "            </p>\n",
    "    </div>\n",
    "</a>\n"
   ]
  },
  {
   "cell_type": "code",
   "execution_count": 34,
   "id": "b9b24d95",
   "metadata": {
    "execution": {
     "iopub.execute_input": "2022-08-18T15:01:52.939303Z",
     "iopub.status.busy": "2022-08-18T15:01:52.938919Z",
     "iopub.status.idle": "2022-08-18T15:01:57.319700Z",
     "shell.execute_reply": "2022-08-18T15:01:57.318290Z"
    },
    "papermill": {
     "duration": 4.413474,
     "end_time": "2022-08-18T15:01:57.323035",
     "exception": false,
     "start_time": "2022-08-18T15:01:52.909561",
     "status": "completed"
    },
    "tags": []
   },
   "outputs": [],
   "source": [
    "all_data['text']=all_data['text'].apply(lambda x : remove_stop_words(x))"
   ]
  },
  {
   "cell_type": "markdown",
   "id": "0118391e",
   "metadata": {
    "papermill": {
     "duration": 0.027493,
     "end_time": "2022-08-18T15:01:57.379538",
     "exception": false,
     "start_time": "2022-08-18T15:01:57.352045",
     "status": "completed"
    },
    "tags": []
   },
   "source": [
    "<a class = \"anchor\" id = cor_sp >\n",
    "    <div style=\"color:black;\n",
    "               border-radius:0px;\n",
    "               background-color:#00ADB5;\n",
    "               font-size:14px;\n",
    "               font-family:sans-serif;\n",
    "               letter-spacing:0.5px\">\n",
    "            <p style=\"padding: 6px;\n",
    "                  color:white;\">\n",
    "                <b>Correct Spelling:</b>\n",
    "            </p>\n",
    "    </div>\n",
    "</a>\n"
   ]
  },
  {
   "cell_type": "markdown",
   "id": "692d3fda",
   "metadata": {
    "papermill": {
     "duration": 0.027131,
     "end_time": "2022-08-18T15:01:57.435069",
     "exception": false,
     "start_time": "2022-08-18T15:01:57.407938",
     "status": "completed"
    },
    "tags": []
   },
   "source": [
    "this cell may take around 30 mins i will run it later."
   ]
  },
  {
   "cell_type": "code",
   "execution_count": 35,
   "id": "670f4520",
   "metadata": {
    "execution": {
     "iopub.execute_input": "2022-08-18T15:01:57.494212Z",
     "iopub.status.busy": "2022-08-18T15:01:57.493790Z",
     "iopub.status.idle": "2022-08-18T15:01:57.499406Z",
     "shell.execute_reply": "2022-08-18T15:01:57.497909Z"
    },
    "papermill": {
     "duration": 0.038756,
     "end_time": "2022-08-18T15:01:57.502441",
     "exception": false,
     "start_time": "2022-08-18T15:01:57.463685",
     "status": "completed"
    },
    "tags": []
   },
   "outputs": [],
   "source": [
    "# import os\n",
    "# corrected = 0\n",
    "# for tweet in all_data[\"text\"]:\n",
    "#     tweet = correct_spellings(tweet)\n",
    "#     corrected += 1\n",
    "#     print(f\"{corrected} from {all_data.shape[0]} tweets are corrected!\", end='\\r')"
   ]
  },
  {
   "cell_type": "code",
   "execution_count": 36,
   "id": "7c54985a",
   "metadata": {
    "execution": {
     "iopub.execute_input": "2022-08-18T15:01:57.559129Z",
     "iopub.status.busy": "2022-08-18T15:01:57.558779Z",
     "iopub.status.idle": "2022-08-18T15:01:57.571630Z",
     "shell.execute_reply": "2022-08-18T15:01:57.570219Z"
    },
    "papermill": {
     "duration": 0.044027,
     "end_time": "2022-08-18T15:01:57.574148",
     "exception": false,
     "start_time": "2022-08-18T15:01:57.530121",
     "status": "completed"
    },
    "tags": []
   },
   "outputs": [
    {
     "data": {
      "text/html": [
       "<div>\n",
       "<style scoped>\n",
       "    .dataframe tbody tr th:only-of-type {\n",
       "        vertical-align: middle;\n",
       "    }\n",
       "\n",
       "    .dataframe tbody tr th {\n",
       "        vertical-align: top;\n",
       "    }\n",
       "\n",
       "    .dataframe thead th {\n",
       "        text-align: right;\n",
       "    }\n",
       "</style>\n",
       "<table border=\"1\" class=\"dataframe\">\n",
       "  <thead>\n",
       "    <tr style=\"text-align: right;\">\n",
       "      <th></th>\n",
       "      <th>keyword</th>\n",
       "      <th>location</th>\n",
       "      <th>text</th>\n",
       "    </tr>\n",
       "  </thead>\n",
       "  <tbody>\n",
       "    <tr>\n",
       "      <th>0</th>\n",
       "      <td>NaN</td>\n",
       "      <td>NaN</td>\n",
       "      <td>deeds reason earthquake may allah forgive us</td>\n",
       "    </tr>\n",
       "    <tr>\n",
       "      <th>1</th>\n",
       "      <td>NaN</td>\n",
       "      <td>NaN</td>\n",
       "      <td>forest fire near la ronge sask canada</td>\n",
       "    </tr>\n",
       "    <tr>\n",
       "      <th>2</th>\n",
       "      <td>NaN</td>\n",
       "      <td>NaN</td>\n",
       "      <td>residents asked shelter place notified officer...</td>\n",
       "    </tr>\n",
       "    <tr>\n",
       "      <th>3</th>\n",
       "      <td>NaN</td>\n",
       "      <td>NaN</td>\n",
       "      <td>13000 people receive wildfires evacuation orde...</td>\n",
       "    </tr>\n",
       "    <tr>\n",
       "      <th>4</th>\n",
       "      <td>NaN</td>\n",
       "      <td>NaN</td>\n",
       "      <td>got sent photo ruby alaska smoke wildfires pou...</td>\n",
       "    </tr>\n",
       "  </tbody>\n",
       "</table>\n",
       "</div>"
      ],
      "text/plain": [
       "  keyword location                                               text\n",
       "0     NaN      NaN       deeds reason earthquake may allah forgive us\n",
       "1     NaN      NaN              forest fire near la ronge sask canada\n",
       "2     NaN      NaN  residents asked shelter place notified officer...\n",
       "3     NaN      NaN  13000 people receive wildfires evacuation orde...\n",
       "4     NaN      NaN  got sent photo ruby alaska smoke wildfires pou..."
      ]
     },
     "execution_count": 36,
     "metadata": {},
     "output_type": "execute_result"
    }
   ],
   "source": [
    "all_data.head()"
   ]
  },
  {
   "cell_type": "markdown",
   "id": "4f30398d",
   "metadata": {
    "papermill": {
     "duration": 0.027226,
     "end_time": "2022-08-18T15:01:57.629313",
     "exception": false,
     "start_time": "2022-08-18T15:01:57.602087",
     "status": "completed"
    },
    "tags": []
   },
   "source": [
    "<a class=\"anchor\" id=\"modeling\">\n",
    "    <div style=\"color:#00ADB5;\n",
    "               display:fill;\n",
    "               border-radius:5px;\n",
    "               background-color:#393E46;\n",
    "               font-size:20px;\n",
    "               font-family:sans-serif;\n",
    "               letter-spacing:0.5px\">\n",
    "            <p style=\"padding: 10px;\n",
    "                  color:white;\">\n",
    "                <b>7 ) Modeling:</b>\n",
    "            </p>\n",
    "    </div>\n",
    "</a>"
   ]
  },
  {
   "cell_type": "markdown",
   "id": "cb015896",
   "metadata": {
    "papermill": {
     "duration": 0.029388,
     "end_time": "2022-08-18T15:01:57.687577",
     "exception": false,
     "start_time": "2022-08-18T15:01:57.658189",
     "status": "completed"
    },
    "tags": []
   },
   "source": [
    "<a class = \"anchor\" id = tv >\n",
    "    <div style=\"color:black;\n",
    "               border-radius:0px;\n",
    "               background-color:#00ADB5;\n",
    "               font-size:14px;\n",
    "               font-family:sans-serif;\n",
    "               letter-spacing:0.5px\">\n",
    "            <p style=\"padding: 6px;\n",
    "                  color:white;\">\n",
    "                <b>Text Vectorization:</b>\n",
    "            </p>\n",
    "    </div>\n",
    "</a>\n"
   ]
  },
  {
   "cell_type": "markdown",
   "id": "92bab20d",
   "metadata": {
    "papermill": {
     "duration": 0.027432,
     "end_time": "2022-08-18T15:01:57.743763",
     "exception": false,
     "start_time": "2022-08-18T15:01:57.716331",
     "status": "completed"
    },
    "tags": []
   },
   "source": [
    "Processing natural language text and extract useful information from the given word, a sentence using machine learning and deep learning techniques requires the string/text needs to be converted into a set of **real numbers (a vector) — Word Embeddings.**\n",
    "\n",
    "**Word Embeddings or Word vectorization:** is a methodology in NLP to map words or phrases from vocabulary to a corresponding vector of real numbers which used to find word predictions, word similarities/semantics.\n",
    "\n",
    "#### Vectorization techniques:\n",
    "1. Bag of Words\n",
    "2. TF-IDF\n",
    "3. Word2Vec\n",
    "4. GloVe\n",
    "5. FastText\n",
    "\n",
    "\n",
    "You can see a full comparison of these methods from [here](https://neptune.ai/blog/vectorization-techniques-in-nlp-guide#:~:text=Vectorization%20is%20jargon%20for%20a,format%20that%20ML%20models%20support.). I will use **GloVe** technique. It is available in 4 varieties :50D ,100D, 200D, 300D Dimentional.We will try 100 D here."
   ]
  },
  {
   "cell_type": "code",
   "execution_count": 37,
   "id": "bb6939fb",
   "metadata": {
    "execution": {
     "iopub.execute_input": "2022-08-18T15:01:57.802363Z",
     "iopub.status.busy": "2022-08-18T15:01:57.801488Z",
     "iopub.status.idle": "2022-08-18T15:05:12.278691Z",
     "shell.execute_reply": "2022-08-18T15:05:12.276911Z"
    },
    "papermill": {
     "duration": 194.509775,
     "end_time": "2022-08-18T15:05:12.281418",
     "exception": false,
     "start_time": "2022-08-18T15:01:57.771643",
     "status": "completed"
    },
    "tags": []
   },
   "outputs": [],
   "source": [
    "# Downloading GloVe (You can skip this cell):\n",
    "import os\n",
    "os.chdir(r'/kaggle/working')    \n",
    "# downloading Glove\n",
    "!wget http://nlp.stanford.edu/data/glove.6B.zip\n",
    "!unzip glove*.zip -d /kaggle/working/GloVe\n",
    "!rm glove*.zip\n",
    "clear_output()"
   ]
  },
  {
   "cell_type": "code",
   "execution_count": 38,
   "id": "c29ef85e",
   "metadata": {
    "execution": {
     "iopub.execute_input": "2022-08-18T15:05:12.337867Z",
     "iopub.status.busy": "2022-08-18T15:05:12.337430Z",
     "iopub.status.idle": "2022-08-18T15:05:23.810730Z",
     "shell.execute_reply": "2022-08-18T15:05:23.809289Z"
    },
    "papermill": {
     "duration": 11.505088,
     "end_time": "2022-08-18T15:05:23.814064",
     "exception": false,
     "start_time": "2022-08-18T15:05:12.308976",
     "status": "completed"
    },
    "tags": []
   },
   "outputs": [],
   "source": [
    "# Filling embedding_dict with pairs of word and its vector from GloVe file (There are an example below).\n",
    "embedding_dict={}\n",
    "with open('/kaggle/working/GloVe/glove.6B.100d.txt','r') as f:\n",
    "    for line in f:\n",
    "        values=line.split()\n",
    "        word=values[0]\n",
    "        vectors=np.asarray(values[1:],'float32')\n",
    "        embedding_dict[word]=vectors\n",
    "f.close()"
   ]
  },
  {
   "cell_type": "code",
   "execution_count": 39,
   "id": "b6022234",
   "metadata": {
    "execution": {
     "iopub.execute_input": "2022-08-18T15:05:23.867460Z",
     "iopub.status.busy": "2022-08-18T15:05:23.867081Z",
     "iopub.status.idle": "2022-08-18T15:05:23.875265Z",
     "shell.execute_reply": "2022-08-18T15:05:23.873881Z"
    },
    "papermill": {
     "duration": 0.038638,
     "end_time": "2022-08-18T15:05:23.879426",
     "exception": false,
     "start_time": "2022-08-18T15:05:23.840788",
     "status": "completed"
    },
    "tags": []
   },
   "outputs": [
    {
     "name": "stdout",
     "output_type": "stream",
     "text": [
      "Code of \"the\" word is [-0.038194 -0.24487   0.72812  -0.39961   0.083172] ... (100 numbers)\n",
      "Code of \"disaster\" word is [-0.28035  0.64791  0.54977 -0.10451 -0.27355] ... (100 numbers)\n"
     ]
    }
   ],
   "source": [
    "# GloVe Example:\n",
    "the_word_code = embedding_dict[\"the\"]\n",
    "disaster_word_code = embedding_dict[\"disaster\"]\n",
    "print(f\"Code of \\\"the\\\" word is {the_word_code[:5]} ... (100 numbers)\")\n",
    "print(f\"Code of \\\"disaster\\\" word is {disaster_word_code[:5]} ... (100 numbers)\")"
   ]
  },
  {
   "cell_type": "markdown",
   "id": "0394033c",
   "metadata": {
    "papermill": {
     "duration": 0.024523,
     "end_time": "2022-08-18T15:05:23.930451",
     "exception": false,
     "start_time": "2022-08-18T15:05:23.905928",
     "status": "completed"
    },
    "tags": []
   },
   "source": [
    "<center><img src = \"https://miro.medium.com/max/530/1*LdviucnshWgIIcQvhTTF-g.png\" width = \"500\"></center>\n",
    "<center>\"an example of representing words in a Space\"</center>"
   ]
  },
  {
   "cell_type": "markdown",
   "id": "7b0883ba",
   "metadata": {
    "papermill": {
     "duration": 0.025323,
     "end_time": "2022-08-18T15:05:23.982066",
     "exception": false,
     "start_time": "2022-08-18T15:05:23.956743",
     "status": "completed"
    },
    "tags": []
   },
   "source": [
    "**1 ) Getting corpus for each tweet:**\n",
    "\n",
    "Now we want to extract the words from each tweet in all_data (There are an example below)"
   ]
  },
  {
   "cell_type": "code",
   "execution_count": 40,
   "id": "7d07256c",
   "metadata": {
    "execution": {
     "iopub.execute_input": "2022-08-18T15:05:24.035013Z",
     "iopub.status.busy": "2022-08-18T15:05:24.034610Z",
     "iopub.status.idle": "2022-08-18T15:05:26.746833Z",
     "shell.execute_reply": "2022-08-18T15:05:26.745214Z"
    },
    "papermill": {
     "duration": 2.742653,
     "end_time": "2022-08-18T15:05:26.749645",
     "exception": false,
     "start_time": "2022-08-18T15:05:24.006992",
     "status": "completed"
    },
    "tags": []
   },
   "outputs": [
    {
     "name": "stdout",
     "output_type": "stream",
     "text": [
      "Corpus for first 2 tweets are\n"
     ]
    },
    {
     "data": {
      "text/plain": [
       "[['deeds', 'reason', 'earthquake', 'may', 'allah', 'forgive', 'us'],\n",
       " ['forest', 'fire', 'near', 'la', 'ronge', 'sask', 'canada']]"
      ]
     },
     "execution_count": 40,
     "metadata": {},
     "output_type": "execute_result"
    }
   ],
   "source": [
    "# Getting corpus for each tweet:\n",
    "all_data_corpus = []\n",
    "for index , tweet in all_data.iterrows():\n",
    "    all_data_corpus.append(get_corpus([tweet[\"text\"]]))\n",
    "print(\"Corpus for first 2 tweets are\")\n",
    "all_data_corpus[:2]"
   ]
  },
  {
   "cell_type": "markdown",
   "id": "4e730c89",
   "metadata": {
    "papermill": {
     "duration": 0.025448,
     "end_time": "2022-08-18T15:05:26.801446",
     "exception": false,
     "start_time": "2022-08-18T15:05:26.775998",
     "status": "completed"
    },
    "tags": []
   },
   "source": [
    "**2 ) Tokenizing words of each tweet :**  \n",
    "\n",
    "In this step we are going to assign each word to a unique number."
   ]
  },
  {
   "cell_type": "code",
   "execution_count": 41,
   "id": "68124c76",
   "metadata": {
    "execution": {
     "iopub.execute_input": "2022-08-18T15:05:26.855183Z",
     "iopub.status.busy": "2022-08-18T15:05:26.854832Z",
     "iopub.status.idle": "2022-08-18T15:05:27.009332Z",
     "shell.execute_reply": "2022-08-18T15:05:27.007375Z"
    },
    "papermill": {
     "duration": 0.186165,
     "end_time": "2022-08-18T15:05:27.013119",
     "exception": false,
     "start_time": "2022-08-18T15:05:26.826954",
     "status": "completed"
    },
    "tags": []
   },
   "outputs": [
    {
     "name": "stdout",
     "output_type": "stream",
     "text": [
      "There are 22671 unique words\n",
      "Let's see first 5 words:\n"
     ]
    },
    {
     "data": {
      "text/plain": [
       "[('like', 1), ('amp', 2), ('im', 3), ('fire', 4), ('get', 5)]"
      ]
     },
     "execution_count": 41,
     "metadata": {},
     "output_type": "execute_result"
    }
   ],
   "source": [
    "tokenizer_obj=Tokenizer()\n",
    "tokenizer_obj.fit_on_texts(all_data_corpus)\n",
    "word_index=tokenizer_obj.word_index\n",
    "print(f\"There are {len(word_index)} unique words\")\n",
    "print(\"Let's see first 5 words:\")\n",
    "list(word_index.items())[:5]"
   ]
  },
  {
   "cell_type": "code",
   "execution_count": 42,
   "id": "8c4264c4",
   "metadata": {
    "execution": {
     "iopub.execute_input": "2022-08-18T15:05:27.068620Z",
     "iopub.status.busy": "2022-08-18T15:05:27.068242Z",
     "iopub.status.idle": "2022-08-18T15:05:27.244476Z",
     "shell.execute_reply": "2022-08-18T15:05:27.242216Z"
    },
    "papermill": {
     "duration": 0.212276,
     "end_time": "2022-08-18T15:05:27.252019",
     "exception": false,
     "start_time": "2022-08-18T15:05:27.039743",
     "status": "completed"
    },
    "tags": []
   },
   "outputs": [
    {
     "name": "stdout",
     "output_type": "stream",
     "text": [
      "first 2 tweets after tokenizing without padding are:\n",
      "[5649, 704, 150, 65, 1784, 3577, 12]\n",
      "[79, 4, 118, 705, 8372, 8373, 1280]\n",
      "----------------------------------------------------------------------------------------------------\n",
      "first 2 tweets after tokenizing and padding are:\n",
      "[5649  704  150   65 1784 3577   12    0    0    0    0    0    0    0\n",
      "    0    0    0    0    0    0    0    0    0    0    0    0    0    0\n",
      "    0    0    0    0    0    0    0    0    0    0    0    0    0    0\n",
      "    0    0    0    0    0    0    0    0]\n",
      "[  79    4  118  705 8372 8373 1280    0    0    0    0    0    0    0\n",
      "    0    0    0    0    0    0    0    0    0    0    0    0    0    0\n",
      "    0    0    0    0    0    0    0    0    0    0    0    0    0    0\n",
      "    0    0    0    0    0    0    0    0]\n"
     ]
    }
   ],
   "source": [
    "MAX_LEN=50\n",
    "sequences=tokenizer_obj.texts_to_sequences(all_data_corpus)\n",
    "tweet_pad=pad_sequences(sequences,maxlen=MAX_LEN,truncating='post',padding='post')\n",
    "print(\"first 2 tweets after tokenizing without padding are:\")\n",
    "print(sequences[0])\n",
    "print(sequences[1])\n",
    "print(\"-\" * 100)\n",
    "print(\"first 2 tweets after tokenizing and padding are:\")\n",
    "print(tweet_pad[0])\n",
    "print(tweet_pad[1])"
   ]
  },
  {
   "cell_type": "markdown",
   "id": "778a7520",
   "metadata": {
    "papermill": {
     "duration": 0.061199,
     "end_time": "2022-08-18T15:05:27.393168",
     "exception": false,
     "start_time": "2022-08-18T15:05:27.331969",
     "status": "completed"
    },
    "tags": []
   },
   "source": [
    "**3 ) Creating the embedding matrix:**\n",
    "\n",
    "This matrix contains count of rows equal to **count of our unique words** and **100** columns (GloVe vectors)."
   ]
  },
  {
   "cell_type": "code",
   "execution_count": 43,
   "id": "35797826",
   "metadata": {
    "execution": {
     "iopub.execute_input": "2022-08-18T15:05:27.491567Z",
     "iopub.status.busy": "2022-08-18T15:05:27.491008Z",
     "iopub.status.idle": "2022-08-18T15:05:27.588161Z",
     "shell.execute_reply": "2022-08-18T15:05:27.585076Z"
    },
    "papermill": {
     "duration": 0.151378,
     "end_time": "2022-08-18T15:05:27.593485",
     "exception": false,
     "start_time": "2022-08-18T15:05:27.442107",
     "status": "completed"
    },
    "tags": []
   },
   "outputs": [
    {
     "name": "stderr",
     "output_type": "stream",
     "text": [
      "100%|██████████| 22671/22671 [00:00<00:00, 288929.67it/s]\n"
     ]
    }
   ],
   "source": [
    "num_words=len(word_index)+1\n",
    "embedding_matrix=np.zeros((num_words,100))\n",
    "for word,i in tqdm(word_index.items()):\n",
    "    emb_vec=embedding_dict.get(word)\n",
    "    if emb_vec is not None:\n",
    "        embedding_matrix[i]=emb_vec"
   ]
  },
  {
   "cell_type": "code",
   "execution_count": 44,
   "id": "cbc47645",
   "metadata": {
    "execution": {
     "iopub.execute_input": "2022-08-18T15:05:27.688768Z",
     "iopub.status.busy": "2022-08-18T15:05:27.688088Z",
     "iopub.status.idle": "2022-08-18T15:05:27.702371Z",
     "shell.execute_reply": "2022-08-18T15:05:27.699202Z"
    },
    "papermill": {
     "duration": 0.065624,
     "end_time": "2022-08-18T15:05:27.706348",
     "exception": false,
     "start_time": "2022-08-18T15:05:27.640724",
     "status": "completed"
    },
    "tags": []
   },
   "outputs": [
    {
     "name": "stdout",
     "output_type": "stream",
     "text": [
      "first 2 rows of embedding matrix are:\n",
      "[[-0.2687      0.81708002  0.69896001 -0.72341001  0.091566    0.19557001\n",
      "  -0.52112001 -0.24313    -0.44701001 -0.27039    -0.34125999 -0.46898001\n",
      "   0.42583001  0.46289     0.17106    -0.26795     0.23162     0.46568\n",
      "  -0.31808001  0.75875002  0.31856999  0.64124     0.067042   -0.18516999\n",
      "   0.49996001  0.36963999 -0.31172001 -0.73097998 -0.26901999 -0.32058001\n",
      "   0.23394001  0.24276     0.1426     -0.2793      0.38823     0.42398\n",
      "   0.1021      0.33316001  0.30149999 -0.52710998 -0.024475   -0.15301\n",
      "  -0.3224     -0.51231003 -0.55250001  0.29819     0.10847     0.052334\n",
      "  -0.2298     -0.77889001 -0.08928     0.48109001  0.015368    0.92544001\n",
      "  -0.26122001 -2.47589993 -0.019825    0.58280998  1.30599999  0.73512\n",
      "  -0.34371999  1.58290005 -0.10814     0.11388     0.79220003  0.18347\n",
      "   1.22319996  0.35697001  0.17504001 -0.16527    -0.012827   -0.47918001\n",
      "  -0.32111001 -0.40573001 -0.37151     0.086323    0.25172001 -0.082751\n",
      "  -0.25584    -0.19178     1.0474     -0.51984    -0.71463001  0.38826999\n",
      "  -1.67219996  0.015986   -0.22668    -0.26602    -0.57924998 -0.85650998\n",
      "   0.20543    -0.46371999 -0.065652   -0.061944   -0.57233    -0.46406001\n",
      "  -0.41405001 -0.40110001  0.74656999  0.31121999]\n",
      " [-0.44497001  0.26159999 -0.17784999 -0.40913999 -0.40169999  0.054959\n",
      "   0.093679    0.069059   -0.78829002  0.065775    0.88508999 -0.51506001\n",
      "  -0.67467999  0.16452    -0.73873001 -0.37819999 -0.12201    -0.54759002\n",
      "  -0.02784     0.59376001  0.36151999 -1.03340006  0.35159001  0.078232\n",
      "   0.43436     1.34780002  0.035535    0.17275999 -0.90016001 -0.19001999\n",
      "   0.56415999  0.72205001 -0.27156001  0.22469001 -0.17146     0.30335999\n",
      "  -0.076256    0.44323     0.22234    -0.047533    0.76349998 -0.48541\n",
      "  -0.78074998 -0.85008001 -0.51178002  0.34674999 -0.59504002  0.76341999\n",
      "   0.92251003 -0.80306    -0.1577     -0.23709001  0.064305   -0.14699\n",
      "  -0.26813    -1.33770001 -0.24663     0.31704     0.63887     0.26921001\n",
      "   0.13366    -0.64296001 -0.063373   -0.47473001  0.55952001  0.12912001\n",
      "   0.16753     0.39094999  1.05809999 -0.097845   -0.93421     0.96959001\n",
      "  -0.77579999 -0.50016999 -0.092224   -0.71841002  0.19949    -0.14139\n",
      "  -0.18633001 -0.47126001  0.30526999 -0.55650002 -0.022195   -0.0065853\n",
      "   0.050762    0.31540999  0.20573001 -0.8168      0.38089001 -0.42179\n",
      "   0.20308    -0.33559     0.17730001 -0.48249    -0.40053999  0.29376\n",
      "   0.33945999 -0.33028001  0.58111     0.38205001]]\n"
     ]
    }
   ],
   "source": [
    "print(\"first 2 rows of embedding matrix are:\")\n",
    "print(embedding_matrix[1:3])"
   ]
  },
  {
   "cell_type": "markdown",
   "id": "cd93ace3",
   "metadata": {
    "papermill": {
     "duration": 0.045417,
     "end_time": "2022-08-18T15:05:27.800414",
     "exception": false,
     "start_time": "2022-08-18T15:05:27.754997",
     "status": "completed"
    },
    "tags": []
   },
   "source": [
    "<a class = \"anchor\" id = blm >\n",
    "    <div style=\"color:black;\n",
    "               border-radius:0px;\n",
    "               background-color:#00ADB5;\n",
    "               font-size:14px;\n",
    "               font-family:sans-serif;\n",
    "               letter-spacing:0.5px\">\n",
    "            <p style=\"padding: 6px;\n",
    "                  color:white;\">\n",
    "                <b>Baseline Model:</b>\n",
    "            </p>\n",
    "    </div>\n",
    "</a>\n"
   ]
  },
  {
   "cell_type": "code",
   "execution_count": 45,
   "id": "97320056",
   "metadata": {
    "execution": {
     "iopub.execute_input": "2022-08-18T15:05:27.931043Z",
     "iopub.status.busy": "2022-08-18T15:05:27.930616Z",
     "iopub.status.idle": "2022-08-18T15:05:32.150856Z",
     "shell.execute_reply": "2022-08-18T15:05:32.148836Z"
    },
    "papermill": {
     "duration": 4.312479,
     "end_time": "2022-08-18T15:05:32.157892",
     "exception": false,
     "start_time": "2022-08-18T15:05:27.845413",
     "status": "completed"
    },
    "tags": []
   },
   "outputs": [],
   "source": [
    "model=Sequential()\n",
    "\n",
    "embedding=Embedding(num_words,100,embeddings_initializer=Constant(embedding_matrix),\n",
    "                   input_length=MAX_LEN,trainable=False)\n",
    "\n",
    "model.add(embedding)\n",
    "model.add(SpatialDropout1D(0.2))\n",
    "model.add(LSTM(64, dropout=0.2, recurrent_dropout=0.2))\n",
    "model.add(Dense(1, activation='sigmoid'))\n",
    "\n",
    "\n",
    "optimzer=Adam(learning_rate=1e-5)\n",
    "\n",
    "model.compile(loss='binary_crossentropy',optimizer=optimzer,metrics=['accuracy'])\n",
    "\n",
    "clear_output()"
   ]
  },
  {
   "cell_type": "code",
   "execution_count": 46,
   "id": "790a355d",
   "metadata": {
    "execution": {
     "iopub.execute_input": "2022-08-18T15:05:32.215665Z",
     "iopub.status.busy": "2022-08-18T15:05:32.215239Z",
     "iopub.status.idle": "2022-08-18T15:05:32.223495Z",
     "shell.execute_reply": "2022-08-18T15:05:32.222109Z"
    },
    "papermill": {
     "duration": 0.040823,
     "end_time": "2022-08-18T15:05:32.227372",
     "exception": false,
     "start_time": "2022-08-18T15:05:32.186549",
     "status": "completed"
    },
    "tags": []
   },
   "outputs": [
    {
     "name": "stdout",
     "output_type": "stream",
     "text": [
      "Model: \"sequential\"\n",
      "_________________________________________________________________\n",
      "Layer (type)                 Output Shape              Param #   \n",
      "=================================================================\n",
      "embedding (Embedding)        (None, 50, 100)           2267200   \n",
      "_________________________________________________________________\n",
      "spatial_dropout1d (SpatialDr (None, 50, 100)           0         \n",
      "_________________________________________________________________\n",
      "lstm (LSTM)                  (None, 64)                42240     \n",
      "_________________________________________________________________\n",
      "dense (Dense)                (None, 1)                 65        \n",
      "=================================================================\n",
      "Total params: 2,309,505\n",
      "Trainable params: 42,305\n",
      "Non-trainable params: 2,267,200\n",
      "_________________________________________________________________\n"
     ]
    }
   ],
   "source": [
    "model.summary()"
   ]
  },
  {
   "cell_type": "code",
   "execution_count": 47,
   "id": "d7170cf4",
   "metadata": {
    "execution": {
     "iopub.execute_input": "2022-08-18T15:05:32.284108Z",
     "iopub.status.busy": "2022-08-18T15:05:32.283618Z",
     "iopub.status.idle": "2022-08-18T15:05:32.290245Z",
     "shell.execute_reply": "2022-08-18T15:05:32.288754Z"
    },
    "papermill": {
     "duration": 0.038469,
     "end_time": "2022-08-18T15:05:32.292909",
     "exception": false,
     "start_time": "2022-08-18T15:05:32.254440",
     "status": "completed"
    },
    "tags": []
   },
   "outputs": [],
   "source": [
    "train=tweet_pad[:train_data.shape[0]]\n",
    "test=tweet_pad[train_data.shape[0]:]"
   ]
  },
  {
   "cell_type": "code",
   "execution_count": 48,
   "id": "6cbe78e9",
   "metadata": {
    "execution": {
     "iopub.execute_input": "2022-08-18T15:05:32.349173Z",
     "iopub.status.busy": "2022-08-18T15:05:32.348775Z",
     "iopub.status.idle": "2022-08-18T15:05:32.360324Z",
     "shell.execute_reply": "2022-08-18T15:05:32.358414Z"
    },
    "papermill": {
     "duration": 0.043995,
     "end_time": "2022-08-18T15:05:32.363894",
     "exception": false,
     "start_time": "2022-08-18T15:05:32.319899",
     "status": "completed"
    },
    "tags": []
   },
   "outputs": [
    {
     "name": "stdout",
     "output_type": "stream",
     "text": [
      "Shape of train (6471, 50)\n",
      "Shape of Validation  (1142, 50)\n"
     ]
    }
   ],
   "source": [
    "X_train,X_test,y_train,y_test=train_test_split(train,target,test_size=0.15)\n",
    "print('Shape of train',X_train.shape)\n",
    "print(\"Shape of Validation \",X_test.shape)"
   ]
  },
  {
   "cell_type": "code",
   "execution_count": 49,
   "id": "e3752cd4",
   "metadata": {
    "execution": {
     "iopub.execute_input": "2022-08-18T15:05:32.422601Z",
     "iopub.status.busy": "2022-08-18T15:05:32.421443Z",
     "iopub.status.idle": "2022-08-18T15:37:31.202675Z",
     "shell.execute_reply": "2022-08-18T15:37:31.201314Z"
    },
    "papermill": {
     "duration": 1918.81377,
     "end_time": "2022-08-18T15:37:31.205876",
     "exception": false,
     "start_time": "2022-08-18T15:05:32.392106",
     "status": "completed"
    },
    "tags": []
   },
   "outputs": [
    {
     "name": "stdout",
     "output_type": "stream",
     "text": [
      "Epoch 1/15\n"
     ]
    },
    {
     "name": "stderr",
     "output_type": "stream",
     "text": [
      "2022-08-18 15:05:32.492746: I tensorflow/compiler/mlir/mlir_graph_optimization_pass.cc:185] None of the MLIR Optimization Passes are enabled (registered 2)\n"
     ]
    },
    {
     "name": "stdout",
     "output_type": "stream",
     "text": [
      "405/405 [==============================] - 132s 315ms/step - loss: 0.6922 - accuracy: 0.5702 - val_loss: 0.6914 - val_accuracy: 0.5639\n",
      "Epoch 2/15\n",
      "405/405 [==============================] - 128s 316ms/step - loss: 0.6886 - accuracy: 0.5715 - val_loss: 0.6824 - val_accuracy: 0.5639\n",
      "Epoch 3/15\n",
      "405/405 [==============================] - 127s 313ms/step - loss: 0.6271 - accuracy: 0.6528 - val_loss: 0.5691 - val_accuracy: 0.7531\n",
      "Epoch 4/15\n",
      "405/405 [==============================] - 128s 316ms/step - loss: 0.5616 - accuracy: 0.7456 - val_loss: 0.5411 - val_accuracy: 0.7741\n",
      "Epoch 5/15\n",
      "405/405 [==============================] - 128s 317ms/step - loss: 0.5427 - accuracy: 0.7507 - val_loss: 0.5259 - val_accuracy: 0.7793\n",
      "Epoch 6/15\n",
      "405/405 [==============================] - 127s 313ms/step - loss: 0.5320 - accuracy: 0.7558 - val_loss: 0.5156 - val_accuracy: 0.7767\n",
      "Epoch 7/15\n",
      "405/405 [==============================] - 127s 315ms/step - loss: 0.5208 - accuracy: 0.7650 - val_loss: 0.5077 - val_accuracy: 0.7776\n",
      "Epoch 8/15\n",
      "405/405 [==============================] - 129s 318ms/step - loss: 0.5161 - accuracy: 0.7693 - val_loss: 0.5016 - val_accuracy: 0.7758\n",
      "Epoch 9/15\n",
      "405/405 [==============================] - 127s 313ms/step - loss: 0.5092 - accuracy: 0.7656 - val_loss: 0.4957 - val_accuracy: 0.7793\n",
      "Epoch 10/15\n",
      "405/405 [==============================] - 128s 316ms/step - loss: 0.5083 - accuracy: 0.7670 - val_loss: 0.4917 - val_accuracy: 0.7820\n",
      "Epoch 11/15\n",
      "405/405 [==============================] - 127s 315ms/step - loss: 0.5056 - accuracy: 0.7684 - val_loss: 0.4883 - val_accuracy: 0.7820\n",
      "Epoch 12/15\n",
      "405/405 [==============================] - 128s 317ms/step - loss: 0.4974 - accuracy: 0.7796 - val_loss: 0.4847 - val_accuracy: 0.7828\n",
      "Epoch 13/15\n",
      "405/405 [==============================] - 129s 318ms/step - loss: 0.4957 - accuracy: 0.7764 - val_loss: 0.4825 - val_accuracy: 0.7916\n",
      "Epoch 14/15\n",
      "405/405 [==============================] - 126s 312ms/step - loss: 0.4916 - accuracy: 0.7815 - val_loss: 0.4800 - val_accuracy: 0.7916\n",
      "Epoch 15/15\n",
      "405/405 [==============================] - 127s 314ms/step - loss: 0.4966 - accuracy: 0.7755 - val_loss: 0.4784 - val_accuracy: 0.7898\n"
     ]
    }
   ],
   "source": [
    "history=model.fit(X_train,y_train,batch_size=16,epochs=15,validation_data=(X_test,y_test),verbose=1)"
   ]
  },
  {
   "cell_type": "code",
   "execution_count": 50,
   "id": "90245547",
   "metadata": {
    "execution": {
     "iopub.execute_input": "2022-08-18T15:37:31.999853Z",
     "iopub.status.busy": "2022-08-18T15:37:31.999405Z",
     "iopub.status.idle": "2022-08-18T15:37:32.402503Z",
     "shell.execute_reply": "2022-08-18T15:37:32.400578Z"
    },
    "papermill": {
     "duration": 0.805932,
     "end_time": "2022-08-18T15:37:32.406655",
     "exception": false,
     "start_time": "2022-08-18T15:37:31.600723",
     "status": "completed"
    },
    "tags": []
   },
   "outputs": [
    {
     "data": {
      "text/plain": [
       "<AxesSubplot:>"
      ]
     },
     "execution_count": 50,
     "metadata": {},
     "output_type": "execute_result"
    },
    {
     "data": {
      "image/png": "[encoded data removed]",
      "text/plain": [
       "<Figure size 432x288 with 1 Axes>"
      ]
     },
     "metadata": {},
     "output_type": "display_data"
    }
   ],
   "source": [
    "acc = history.history['accuracy']\n",
    "val_acc = history.history['val_accuracy']\n",
    "loss = history.history['loss']\n",
    "val_loss = history.history['val_loss']\n",
    "\n",
    "epochs = range(1 , len(acc)+1)\n",
    "\n",
    "sns.lineplot(x = epochs , y = acc)\n",
    "sns.lineplot(x = epochs , y = val_acc)"
   ]
  },
  {
   "cell_type": "markdown",
   "id": "94dcf734",
   "metadata": {
    "papermill": {
     "duration": 0.39971,
     "end_time": "2022-08-18T15:37:33.533910",
     "exception": false,
     "start_time": "2022-08-18T15:37:33.134200",
     "status": "completed"
    },
    "tags": []
   },
   "source": [
    "<a class = \"anchor\" id = sub >\n",
    "    <div style=\"color:black;\n",
    "               border-radius:0px;\n",
    "               background-color:#00ADB5;\n",
    "               font-size:14px;\n",
    "               font-family:sans-serif;\n",
    "               letter-spacing:0.5px\">\n",
    "            <p style=\"padding: 6px;\n",
    "                  color:white;\">\n",
    "                <b>Making our submission:</b>\n",
    "            </p>\n",
    "    </div>\n",
    "</a>\n"
   ]
  },
  {
   "cell_type": "code",
   "execution_count": 51,
   "id": "7eaf8e80",
   "metadata": {
    "execution": {
     "iopub.execute_input": "2022-08-18T15:37:34.390311Z",
     "iopub.status.busy": "2022-08-18T15:37:34.389897Z",
     "iopub.status.idle": "2022-08-18T15:37:34.408014Z",
     "shell.execute_reply": "2022-08-18T15:37:34.406522Z"
    },
    "papermill": {
     "duration": 0.466038,
     "end_time": "2022-08-18T15:37:34.410560",
     "exception": false,
     "start_time": "2022-08-18T15:37:33.944522",
     "status": "completed"
    },
    "tags": []
   },
   "outputs": [],
   "source": [
    "sample_sub=pd.read_csv('../input/nlp-getting-started/sample_submission.csv')"
   ]
  },
  {
   "cell_type": "code",
   "execution_count": 52,
   "id": "dd79f418",
   "metadata": {
    "execution": {
     "iopub.execute_input": "2022-08-18T15:37:35.220008Z",
     "iopub.status.busy": "2022-08-18T15:37:35.219529Z",
     "iopub.status.idle": "2022-08-18T15:37:37.151763Z",
     "shell.execute_reply": "2022-08-18T15:37:37.150482Z"
    },
    "papermill": {
     "duration": 2.342138,
     "end_time": "2022-08-18T15:37:37.155052",
     "exception": false,
     "start_time": "2022-08-18T15:37:34.812914",
     "status": "completed"
    },
    "tags": []
   },
   "outputs": [],
   "source": [
    "y_pre=model.predict(test)\n",
    "y_pre=np.round(y_pre).astype(int).reshape(3263)\n",
    "sub=pd.DataFrame({'id':sample_sub['id'].values.tolist(),'target':y_pre})\n",
    "sub.to_csv('submission.csv',index=False)"
   ]
  }
 ],
 "metadata": {
  "kernelspec": {
   "display_name": "Python 3 (ipykernel)",
   "language": "python",
   "name": "python3"
  },
  "language_info": {
   "codemirror_mode": {
    "name": "ipython",
    "version": 3
   },
   "file_extension": ".py",
   "mimetype": "text/x-python",
   "name": "python",
   "nbconvert_exporter": "python",
   "pygments_lexer": "ipython3",
   "version": "3.10.6"
  },
  "papermill": {
   "default_parameters": {},
   "duration": 2196.284428,
   "end_time": "2022-08-18T15:37:41.764908",
   "environment_variables": {},
   "exception": null,
   "input_path": "__notebook__.ipynb",
   "output_path": "__notebook__.ipynb",
   "parameters": {},
   "start_time": "2022-08-18T15:01:05.480480",
   "version": "2.3.4"
  }
 },
 "nbformat": 4,
 "nbformat_minor": 5
}
